{
  "nbformat": 4,
  "nbformat_minor": 0,
  "metadata": {
    "colab": {
      "provenance": []
    },
    "kernelspec": {
      "name": "python3",
      "display_name": "Python 3"
    },
    "language_info": {
      "name": "python"
    }
  },
  "cells": [
    {
      "cell_type": "markdown",
      "source": [
        "###Μηχανική Μάθηση\n",
        "####1η ατομική εργασία\n",
        "ΣΗΜΜΥ- ΕΜΠ -Ακ. Έτος 2023-24\n",
        "\n"
      ],
      "metadata": {
        "id": "Dv7UKdyCAnqD"
      }
    },
    {
      "cell_type": "markdown",
      "source": [
        "# ⚠️\n",
        "`Επισημαίνεται ότι απαγορεύεται η ανάρτηση των λύσεων των εργαστηριακών ασκήσεων στο github, ή σε άλλες ιστοσελίδες. Η σχεδίαση και το περιεχόμενο των εργαστηριακών projects αποτελούν αντικείμενο πνευματικής ιδιοκτησίας της διδακτικής ομάδας του μαθήματος.`"
      ],
      "metadata": {
        "id": "hL5bHZx06KZc"
      }
    },
    {
      "cell_type": "markdown",
      "source": [
        " `⚠️  Το σύνολο δεδομένων που σας δόθηκε δεν πρέπει να εμπλουτισθεί με οποιοδήποτε τρόπο. Η εργασία στην οποία θα χρησιμοποιηθεί εμπλουτισμένο σύνολο δεδομένων, δεν θα διορθωθεί.`"
      ],
      "metadata": {
        "id": "vqmQiAojwM3Z"
      }
    },
    {
      "cell_type": "markdown",
      "source": [
        "Ονοματεπώνυμο φοιτητή: Καμπουγέρης Χαράλαμπος\n",
        "\n",
        "Α.Μ.: 03120098"
      ],
      "metadata": {
        "id": "oAx-ib_pBrq9"
      }
    },
    {
      "cell_type": "markdown",
      "source": [
        "### 1. Εισαγωγή συνόλου δεδομένων\n",
        "\n",
        "Tο σύνολο δεδομένων για το training-validation μπορείτε να το κατεβάσετε από [εδώ](https://drive.google.com/file/d/1_ndkaT6BoDuxxPPxLWq-oKDJqzO1Dlhg/view?usp=sharing) .\n"
      ],
      "metadata": {
        "id": "M7IkqlgaGLr2"
      }
    },
    {
      "cell_type": "markdown",
      "source": [
        "1.α. Φορτώστε το σύνολο δεδομένων \"train-val.csv\"  στο notebook σας."
      ],
      "metadata": {
        "id": "Qe4uFFcv9XF3"
      }
    },
    {
      "cell_type": "code",
      "source": [
        "from google.colab import drive\n",
        "drive.mount('/content/drive')\n",
        "folder_path = '/content/drive/My Drive/'"
      ],
      "metadata": {
        "id": "fbQtw6iYBrJk",
        "colab": {
          "base_uri": "https://localhost:8080/"
        },
        "outputId": "b177171b-7582-4293-e71e-f426b81cecb8"
      },
      "execution_count": 4,
      "outputs": [
        {
          "output_type": "stream",
          "name": "stdout",
          "text": [
            "Drive already mounted at /content/drive; to attempt to forcibly remount, call drive.mount(\"/content/drive\", force_remount=True).\n"
          ]
        }
      ]
    },
    {
      "cell_type": "code",
      "source": [
        "import pandas as pd\n",
        "\n",
        "train_val = pd.read_csv(folder_path + 'train-val.csv')\n",
        "\n",
        "# Display the first few rows of the dataset for verification\n",
        "train_val.head()"
      ],
      "metadata": {
        "colab": {
          "base_uri": "https://localhost:8080/",
          "height": 336
        },
        "id": "maDVSUowhh6S",
        "outputId": "f78b2236-3a69-4105-9f36-20d7f570d8e6"
      },
      "execution_count": 6,
      "outputs": [
        {
          "output_type": "execute_result",
          "data": {
            "text/plain": [
              "   id        Date Location  MinTemp  MaxTemp  Rainfall  Evaporation  Sunshine  \\\n",
              "0   1  2009-03-04   Albury     13.8     22.1       0.2          NaN       NaN   \n",
              "1   2  2009-03-05   Albury     11.5     22.0       0.0          NaN       NaN   \n",
              "2   3  2009-03-09   Albury     13.8     31.8       0.0          NaN       NaN   \n",
              "3   4  2009-03-10   Albury     15.5     32.0       0.0          NaN       NaN   \n",
              "4   5  2009-03-11   Albury     18.4     30.5       1.2          NaN       NaN   \n",
              "\n",
              "  WindGustDir  WindGustSpeed  ... Humidity9am Humidity3pm  Pressure9am  \\\n",
              "0         WNW           57.0  ...        57.0        26.0       1014.5   \n",
              "1          SW           50.0  ...        60.0        33.0       1013.7   \n",
              "2         NNE           24.0  ...        49.0        28.0       1019.7   \n",
              "3          NE           50.0  ...        51.0        25.0       1019.5   \n",
              "4          NE           44.0  ...        57.0        23.0       1021.3   \n",
              "\n",
              "   Pressure3pm  Cloud9am  Cloud3pm  Temp9am  Temp3pm  RainToday  RainTomorrow  \n",
              "0       1013.1       NaN       NaN     15.6     21.9        0.0           0.0  \n",
              "1       1011.8       NaN       NaN     13.9     21.4        0.0           0.0  \n",
              "2       1015.9       NaN       NaN     18.6     30.5        0.0           0.0  \n",
              "3       1016.2       NaN       NaN     20.1     30.8        0.0           1.0  \n",
              "4       1018.0       NaN       NaN     21.5     29.6        1.0           0.0  \n",
              "\n",
              "[5 rows x 24 columns]"
            ],
            "text/html": [
              "\n",
              "  <div id=\"df-2e266354-8d72-48ed-ad82-c3691b72b8cf\" class=\"colab-df-container\">\n",
              "    <div>\n",
              "<style scoped>\n",
              "    .dataframe tbody tr th:only-of-type {\n",
              "        vertical-align: middle;\n",
              "    }\n",
              "\n",
              "    .dataframe tbody tr th {\n",
              "        vertical-align: top;\n",
              "    }\n",
              "\n",
              "    .dataframe thead th {\n",
              "        text-align: right;\n",
              "    }\n",
              "</style>\n",
              "<table border=\"1\" class=\"dataframe\">\n",
              "  <thead>\n",
              "    <tr style=\"text-align: right;\">\n",
              "      <th></th>\n",
              "      <th>id</th>\n",
              "      <th>Date</th>\n",
              "      <th>Location</th>\n",
              "      <th>MinTemp</th>\n",
              "      <th>MaxTemp</th>\n",
              "      <th>Rainfall</th>\n",
              "      <th>Evaporation</th>\n",
              "      <th>Sunshine</th>\n",
              "      <th>WindGustDir</th>\n",
              "      <th>WindGustSpeed</th>\n",
              "      <th>...</th>\n",
              "      <th>Humidity9am</th>\n",
              "      <th>Humidity3pm</th>\n",
              "      <th>Pressure9am</th>\n",
              "      <th>Pressure3pm</th>\n",
              "      <th>Cloud9am</th>\n",
              "      <th>Cloud3pm</th>\n",
              "      <th>Temp9am</th>\n",
              "      <th>Temp3pm</th>\n",
              "      <th>RainToday</th>\n",
              "      <th>RainTomorrow</th>\n",
              "    </tr>\n",
              "  </thead>\n",
              "  <tbody>\n",
              "    <tr>\n",
              "      <th>0</th>\n",
              "      <td>1</td>\n",
              "      <td>2009-03-04</td>\n",
              "      <td>Albury</td>\n",
              "      <td>13.8</td>\n",
              "      <td>22.1</td>\n",
              "      <td>0.2</td>\n",
              "      <td>NaN</td>\n",
              "      <td>NaN</td>\n",
              "      <td>WNW</td>\n",
              "      <td>57.0</td>\n",
              "      <td>...</td>\n",
              "      <td>57.0</td>\n",
              "      <td>26.0</td>\n",
              "      <td>1014.5</td>\n",
              "      <td>1013.1</td>\n",
              "      <td>NaN</td>\n",
              "      <td>NaN</td>\n",
              "      <td>15.6</td>\n",
              "      <td>21.9</td>\n",
              "      <td>0.0</td>\n",
              "      <td>0.0</td>\n",
              "    </tr>\n",
              "    <tr>\n",
              "      <th>1</th>\n",
              "      <td>2</td>\n",
              "      <td>2009-03-05</td>\n",
              "      <td>Albury</td>\n",
              "      <td>11.5</td>\n",
              "      <td>22.0</td>\n",
              "      <td>0.0</td>\n",
              "      <td>NaN</td>\n",
              "      <td>NaN</td>\n",
              "      <td>SW</td>\n",
              "      <td>50.0</td>\n",
              "      <td>...</td>\n",
              "      <td>60.0</td>\n",
              "      <td>33.0</td>\n",
              "      <td>1013.7</td>\n",
              "      <td>1011.8</td>\n",
              "      <td>NaN</td>\n",
              "      <td>NaN</td>\n",
              "      <td>13.9</td>\n",
              "      <td>21.4</td>\n",
              "      <td>0.0</td>\n",
              "      <td>0.0</td>\n",
              "    </tr>\n",
              "    <tr>\n",
              "      <th>2</th>\n",
              "      <td>3</td>\n",
              "      <td>2009-03-09</td>\n",
              "      <td>Albury</td>\n",
              "      <td>13.8</td>\n",
              "      <td>31.8</td>\n",
              "      <td>0.0</td>\n",
              "      <td>NaN</td>\n",
              "      <td>NaN</td>\n",
              "      <td>NNE</td>\n",
              "      <td>24.0</td>\n",
              "      <td>...</td>\n",
              "      <td>49.0</td>\n",
              "      <td>28.0</td>\n",
              "      <td>1019.7</td>\n",
              "      <td>1015.9</td>\n",
              "      <td>NaN</td>\n",
              "      <td>NaN</td>\n",
              "      <td>18.6</td>\n",
              "      <td>30.5</td>\n",
              "      <td>0.0</td>\n",
              "      <td>0.0</td>\n",
              "    </tr>\n",
              "    <tr>\n",
              "      <th>3</th>\n",
              "      <td>4</td>\n",
              "      <td>2009-03-10</td>\n",
              "      <td>Albury</td>\n",
              "      <td>15.5</td>\n",
              "      <td>32.0</td>\n",
              "      <td>0.0</td>\n",
              "      <td>NaN</td>\n",
              "      <td>NaN</td>\n",
              "      <td>NE</td>\n",
              "      <td>50.0</td>\n",
              "      <td>...</td>\n",
              "      <td>51.0</td>\n",
              "      <td>25.0</td>\n",
              "      <td>1019.5</td>\n",
              "      <td>1016.2</td>\n",
              "      <td>NaN</td>\n",
              "      <td>NaN</td>\n",
              "      <td>20.1</td>\n",
              "      <td>30.8</td>\n",
              "      <td>0.0</td>\n",
              "      <td>1.0</td>\n",
              "    </tr>\n",
              "    <tr>\n",
              "      <th>4</th>\n",
              "      <td>5</td>\n",
              "      <td>2009-03-11</td>\n",
              "      <td>Albury</td>\n",
              "      <td>18.4</td>\n",
              "      <td>30.5</td>\n",
              "      <td>1.2</td>\n",
              "      <td>NaN</td>\n",
              "      <td>NaN</td>\n",
              "      <td>NE</td>\n",
              "      <td>44.0</td>\n",
              "      <td>...</td>\n",
              "      <td>57.0</td>\n",
              "      <td>23.0</td>\n",
              "      <td>1021.3</td>\n",
              "      <td>1018.0</td>\n",
              "      <td>NaN</td>\n",
              "      <td>NaN</td>\n",
              "      <td>21.5</td>\n",
              "      <td>29.6</td>\n",
              "      <td>1.0</td>\n",
              "      <td>0.0</td>\n",
              "    </tr>\n",
              "  </tbody>\n",
              "</table>\n",
              "<p>5 rows × 24 columns</p>\n",
              "</div>\n",
              "    <div class=\"colab-df-buttons\">\n",
              "\n",
              "  <div class=\"colab-df-container\">\n",
              "    <button class=\"colab-df-convert\" onclick=\"convertToInteractive('df-2e266354-8d72-48ed-ad82-c3691b72b8cf')\"\n",
              "            title=\"Convert this dataframe to an interactive table.\"\n",
              "            style=\"display:none;\">\n",
              "\n",
              "  <svg xmlns=\"http://www.w3.org/2000/svg\" height=\"24px\" viewBox=\"0 -960 960 960\">\n",
              "    <path d=\"M120-120v-720h720v720H120Zm60-500h600v-160H180v160Zm220 220h160v-160H400v160Zm0 220h160v-160H400v160ZM180-400h160v-160H180v160Zm440 0h160v-160H620v160ZM180-180h160v-160H180v160Zm440 0h160v-160H620v160Z\"/>\n",
              "  </svg>\n",
              "    </button>\n",
              "\n",
              "  <style>\n",
              "    .colab-df-container {\n",
              "      display:flex;\n",
              "      gap: 12px;\n",
              "    }\n",
              "\n",
              "    .colab-df-convert {\n",
              "      background-color: #E8F0FE;\n",
              "      border: none;\n",
              "      border-radius: 50%;\n",
              "      cursor: pointer;\n",
              "      display: none;\n",
              "      fill: #1967D2;\n",
              "      height: 32px;\n",
              "      padding: 0 0 0 0;\n",
              "      width: 32px;\n",
              "    }\n",
              "\n",
              "    .colab-df-convert:hover {\n",
              "      background-color: #E2EBFA;\n",
              "      box-shadow: 0px 1px 2px rgba(60, 64, 67, 0.3), 0px 1px 3px 1px rgba(60, 64, 67, 0.15);\n",
              "      fill: #174EA6;\n",
              "    }\n",
              "\n",
              "    .colab-df-buttons div {\n",
              "      margin-bottom: 4px;\n",
              "    }\n",
              "\n",
              "    [theme=dark] .colab-df-convert {\n",
              "      background-color: #3B4455;\n",
              "      fill: #D2E3FC;\n",
              "    }\n",
              "\n",
              "    [theme=dark] .colab-df-convert:hover {\n",
              "      background-color: #434B5C;\n",
              "      box-shadow: 0px 1px 3px 1px rgba(0, 0, 0, 0.15);\n",
              "      filter: drop-shadow(0px 1px 2px rgba(0, 0, 0, 0.3));\n",
              "      fill: #FFFFFF;\n",
              "    }\n",
              "  </style>\n",
              "\n",
              "    <script>\n",
              "      const buttonEl =\n",
              "        document.querySelector('#df-2e266354-8d72-48ed-ad82-c3691b72b8cf button.colab-df-convert');\n",
              "      buttonEl.style.display =\n",
              "        google.colab.kernel.accessAllowed ? 'block' : 'none';\n",
              "\n",
              "      async function convertToInteractive(key) {\n",
              "        const element = document.querySelector('#df-2e266354-8d72-48ed-ad82-c3691b72b8cf');\n",
              "        const dataTable =\n",
              "          await google.colab.kernel.invokeFunction('convertToInteractive',\n",
              "                                                    [key], {});\n",
              "        if (!dataTable) return;\n",
              "\n",
              "        const docLinkHtml = 'Like what you see? Visit the ' +\n",
              "          '<a target=\"_blank\" href=https://colab.research.google.com/notebooks/data_table.ipynb>data table notebook</a>'\n",
              "          + ' to learn more about interactive tables.';\n",
              "        element.innerHTML = '';\n",
              "        dataTable['output_type'] = 'display_data';\n",
              "        await google.colab.output.renderOutput(dataTable, element);\n",
              "        const docLink = document.createElement('div');\n",
              "        docLink.innerHTML = docLinkHtml;\n",
              "        element.appendChild(docLink);\n",
              "      }\n",
              "    </script>\n",
              "  </div>\n",
              "\n",
              "\n",
              "<div id=\"df-8fedb6d3-d074-454c-a1d7-c5ae61a6a6fe\">\n",
              "  <button class=\"colab-df-quickchart\" onclick=\"quickchart('df-8fedb6d3-d074-454c-a1d7-c5ae61a6a6fe')\"\n",
              "            title=\"Suggest charts\"\n",
              "            style=\"display:none;\">\n",
              "\n",
              "<svg xmlns=\"http://www.w3.org/2000/svg\" height=\"24px\"viewBox=\"0 0 24 24\"\n",
              "     width=\"24px\">\n",
              "    <g>\n",
              "        <path d=\"M19 3H5c-1.1 0-2 .9-2 2v14c0 1.1.9 2 2 2h14c1.1 0 2-.9 2-2V5c0-1.1-.9-2-2-2zM9 17H7v-7h2v7zm4 0h-2V7h2v10zm4 0h-2v-4h2v4z\"/>\n",
              "    </g>\n",
              "</svg>\n",
              "  </button>\n",
              "\n",
              "<style>\n",
              "  .colab-df-quickchart {\n",
              "      --bg-color: #E8F0FE;\n",
              "      --fill-color: #1967D2;\n",
              "      --hover-bg-color: #E2EBFA;\n",
              "      --hover-fill-color: #174EA6;\n",
              "      --disabled-fill-color: #AAA;\n",
              "      --disabled-bg-color: #DDD;\n",
              "  }\n",
              "\n",
              "  [theme=dark] .colab-df-quickchart {\n",
              "      --bg-color: #3B4455;\n",
              "      --fill-color: #D2E3FC;\n",
              "      --hover-bg-color: #434B5C;\n",
              "      --hover-fill-color: #FFFFFF;\n",
              "      --disabled-bg-color: #3B4455;\n",
              "      --disabled-fill-color: #666;\n",
              "  }\n",
              "\n",
              "  .colab-df-quickchart {\n",
              "    background-color: var(--bg-color);\n",
              "    border: none;\n",
              "    border-radius: 50%;\n",
              "    cursor: pointer;\n",
              "    display: none;\n",
              "    fill: var(--fill-color);\n",
              "    height: 32px;\n",
              "    padding: 0;\n",
              "    width: 32px;\n",
              "  }\n",
              "\n",
              "  .colab-df-quickchart:hover {\n",
              "    background-color: var(--hover-bg-color);\n",
              "    box-shadow: 0 1px 2px rgba(60, 64, 67, 0.3), 0 1px 3px 1px rgba(60, 64, 67, 0.15);\n",
              "    fill: var(--button-hover-fill-color);\n",
              "  }\n",
              "\n",
              "  .colab-df-quickchart-complete:disabled,\n",
              "  .colab-df-quickchart-complete:disabled:hover {\n",
              "    background-color: var(--disabled-bg-color);\n",
              "    fill: var(--disabled-fill-color);\n",
              "    box-shadow: none;\n",
              "  }\n",
              "\n",
              "  .colab-df-spinner {\n",
              "    border: 2px solid var(--fill-color);\n",
              "    border-color: transparent;\n",
              "    border-bottom-color: var(--fill-color);\n",
              "    animation:\n",
              "      spin 1s steps(1) infinite;\n",
              "  }\n",
              "\n",
              "  @keyframes spin {\n",
              "    0% {\n",
              "      border-color: transparent;\n",
              "      border-bottom-color: var(--fill-color);\n",
              "      border-left-color: var(--fill-color);\n",
              "    }\n",
              "    20% {\n",
              "      border-color: transparent;\n",
              "      border-left-color: var(--fill-color);\n",
              "      border-top-color: var(--fill-color);\n",
              "    }\n",
              "    30% {\n",
              "      border-color: transparent;\n",
              "      border-left-color: var(--fill-color);\n",
              "      border-top-color: var(--fill-color);\n",
              "      border-right-color: var(--fill-color);\n",
              "    }\n",
              "    40% {\n",
              "      border-color: transparent;\n",
              "      border-right-color: var(--fill-color);\n",
              "      border-top-color: var(--fill-color);\n",
              "    }\n",
              "    60% {\n",
              "      border-color: transparent;\n",
              "      border-right-color: var(--fill-color);\n",
              "    }\n",
              "    80% {\n",
              "      border-color: transparent;\n",
              "      border-right-color: var(--fill-color);\n",
              "      border-bottom-color: var(--fill-color);\n",
              "    }\n",
              "    90% {\n",
              "      border-color: transparent;\n",
              "      border-bottom-color: var(--fill-color);\n",
              "    }\n",
              "  }\n",
              "</style>\n",
              "\n",
              "  <script>\n",
              "    async function quickchart(key) {\n",
              "      const quickchartButtonEl =\n",
              "        document.querySelector('#' + key + ' button');\n",
              "      quickchartButtonEl.disabled = true;  // To prevent multiple clicks.\n",
              "      quickchartButtonEl.classList.add('colab-df-spinner');\n",
              "      try {\n",
              "        const charts = await google.colab.kernel.invokeFunction(\n",
              "            'suggestCharts', [key], {});\n",
              "      } catch (error) {\n",
              "        console.error('Error during call to suggestCharts:', error);\n",
              "      }\n",
              "      quickchartButtonEl.classList.remove('colab-df-spinner');\n",
              "      quickchartButtonEl.classList.add('colab-df-quickchart-complete');\n",
              "    }\n",
              "    (() => {\n",
              "      let quickchartButtonEl =\n",
              "        document.querySelector('#df-8fedb6d3-d074-454c-a1d7-c5ae61a6a6fe button');\n",
              "      quickchartButtonEl.style.display =\n",
              "        google.colab.kernel.accessAllowed ? 'block' : 'none';\n",
              "    })();\n",
              "  </script>\n",
              "</div>\n",
              "    </div>\n",
              "  </div>\n"
            ]
          },
          "metadata": {},
          "execution_count": 6
        }
      ]
    },
    {
      "cell_type": "markdown",
      "source": [
        "1.β. Φορτώστε το σύνολο δεδομένων \"test.csv\" στο notebook σας"
      ],
      "metadata": {
        "id": "JYzv3QN7iEmL"
      }
    },
    {
      "cell_type": "code",
      "source": [
        "test = pd.read_csv(folder_path+ 'test-2.csv')\n",
        "\n",
        "# Display the first few rows of the dataset for verification\n",
        "test.head()"
      ],
      "metadata": {
        "colab": {
          "base_uri": "https://localhost:8080/",
          "height": 252
        },
        "id": "FE8yi8MfiSf8",
        "outputId": "7e45345e-7f7a-44e1-a446-11ec6bafa227"
      },
      "execution_count": 7,
      "outputs": [
        {
          "output_type": "execute_result",
          "data": {
            "text/plain": [
              "         Date Location  MinTemp  MaxTemp  Rainfall  Evaporation  Sunshine  \\\n",
              "0  22/03/2009   Albury     14.6     30.0       0.0          NaN       NaN   \n",
              "1  15/04/2009   Albury     10.7     21.9       0.0          NaN       NaN   \n",
              "2  21/04/2009   Albury      5.7     21.4       0.0          NaN       NaN   \n",
              "3  24/04/2009   Albury     10.6     16.2       0.0          NaN       NaN   \n",
              "4  19/05/2009   Albury      3.7     19.1       0.0          NaN       NaN   \n",
              "\n",
              "  WindGustDir  WindGustSpeed WindDir9am  ... WindSpeed3pm  Humidity9am  \\\n",
              "0          NE           37.0          E  ...         19.0         56.0   \n",
              "1           W           63.0         NW  ...         31.0         44.0   \n",
              "2         ESE           17.0        ENE  ...          7.0         68.0   \n",
              "3         WNW           39.0        ESE  ...          4.0         74.0   \n",
              "4         SSE           19.0        NaN  ...         11.0         87.0   \n",
              "\n",
              "   Humidity3pm  Pressure9am  Pressure3pm  Cloud9am  Cloud3pm  Temp9am  \\\n",
              "0         30.0       1014.8       1012.7       3.0       1.0     18.1   \n",
              "1         27.0       1008.2       1009.8       2.0       NaN     20.5   \n",
              "2         39.0       1025.2       1020.9       NaN       NaN     12.2   \n",
              "3         86.0       1008.9       1002.4       8.0       8.0     14.9   \n",
              "4         51.0       1023.6       1019.9       NaN       NaN      7.4   \n",
              "\n",
              "   Temp3pm  RainToday  \n",
              "0     29.0          0  \n",
              "1     18.9          0  \n",
              "2     20.9          0  \n",
              "3     15.1          0  \n",
              "4     18.9          0  \n",
              "\n",
              "[5 rows x 22 columns]"
            ],
            "text/html": [
              "\n",
              "  <div id=\"df-b6313574-bc51-4382-9207-3e6ec4ce23e3\" class=\"colab-df-container\">\n",
              "    <div>\n",
              "<style scoped>\n",
              "    .dataframe tbody tr th:only-of-type {\n",
              "        vertical-align: middle;\n",
              "    }\n",
              "\n",
              "    .dataframe tbody tr th {\n",
              "        vertical-align: top;\n",
              "    }\n",
              "\n",
              "    .dataframe thead th {\n",
              "        text-align: right;\n",
              "    }\n",
              "</style>\n",
              "<table border=\"1\" class=\"dataframe\">\n",
              "  <thead>\n",
              "    <tr style=\"text-align: right;\">\n",
              "      <th></th>\n",
              "      <th>Date</th>\n",
              "      <th>Location</th>\n",
              "      <th>MinTemp</th>\n",
              "      <th>MaxTemp</th>\n",
              "      <th>Rainfall</th>\n",
              "      <th>Evaporation</th>\n",
              "      <th>Sunshine</th>\n",
              "      <th>WindGustDir</th>\n",
              "      <th>WindGustSpeed</th>\n",
              "      <th>WindDir9am</th>\n",
              "      <th>...</th>\n",
              "      <th>WindSpeed3pm</th>\n",
              "      <th>Humidity9am</th>\n",
              "      <th>Humidity3pm</th>\n",
              "      <th>Pressure9am</th>\n",
              "      <th>Pressure3pm</th>\n",
              "      <th>Cloud9am</th>\n",
              "      <th>Cloud3pm</th>\n",
              "      <th>Temp9am</th>\n",
              "      <th>Temp3pm</th>\n",
              "      <th>RainToday</th>\n",
              "    </tr>\n",
              "  </thead>\n",
              "  <tbody>\n",
              "    <tr>\n",
              "      <th>0</th>\n",
              "      <td>22/03/2009</td>\n",
              "      <td>Albury</td>\n",
              "      <td>14.6</td>\n",
              "      <td>30.0</td>\n",
              "      <td>0.0</td>\n",
              "      <td>NaN</td>\n",
              "      <td>NaN</td>\n",
              "      <td>NE</td>\n",
              "      <td>37.0</td>\n",
              "      <td>E</td>\n",
              "      <td>...</td>\n",
              "      <td>19.0</td>\n",
              "      <td>56.0</td>\n",
              "      <td>30.0</td>\n",
              "      <td>1014.8</td>\n",
              "      <td>1012.7</td>\n",
              "      <td>3.0</td>\n",
              "      <td>1.0</td>\n",
              "      <td>18.1</td>\n",
              "      <td>29.0</td>\n",
              "      <td>0</td>\n",
              "    </tr>\n",
              "    <tr>\n",
              "      <th>1</th>\n",
              "      <td>15/04/2009</td>\n",
              "      <td>Albury</td>\n",
              "      <td>10.7</td>\n",
              "      <td>21.9</td>\n",
              "      <td>0.0</td>\n",
              "      <td>NaN</td>\n",
              "      <td>NaN</td>\n",
              "      <td>W</td>\n",
              "      <td>63.0</td>\n",
              "      <td>NW</td>\n",
              "      <td>...</td>\n",
              "      <td>31.0</td>\n",
              "      <td>44.0</td>\n",
              "      <td>27.0</td>\n",
              "      <td>1008.2</td>\n",
              "      <td>1009.8</td>\n",
              "      <td>2.0</td>\n",
              "      <td>NaN</td>\n",
              "      <td>20.5</td>\n",
              "      <td>18.9</td>\n",
              "      <td>0</td>\n",
              "    </tr>\n",
              "    <tr>\n",
              "      <th>2</th>\n",
              "      <td>21/04/2009</td>\n",
              "      <td>Albury</td>\n",
              "      <td>5.7</td>\n",
              "      <td>21.4</td>\n",
              "      <td>0.0</td>\n",
              "      <td>NaN</td>\n",
              "      <td>NaN</td>\n",
              "      <td>ESE</td>\n",
              "      <td>17.0</td>\n",
              "      <td>ENE</td>\n",
              "      <td>...</td>\n",
              "      <td>7.0</td>\n",
              "      <td>68.0</td>\n",
              "      <td>39.0</td>\n",
              "      <td>1025.2</td>\n",
              "      <td>1020.9</td>\n",
              "      <td>NaN</td>\n",
              "      <td>NaN</td>\n",
              "      <td>12.2</td>\n",
              "      <td>20.9</td>\n",
              "      <td>0</td>\n",
              "    </tr>\n",
              "    <tr>\n",
              "      <th>3</th>\n",
              "      <td>24/04/2009</td>\n",
              "      <td>Albury</td>\n",
              "      <td>10.6</td>\n",
              "      <td>16.2</td>\n",
              "      <td>0.0</td>\n",
              "      <td>NaN</td>\n",
              "      <td>NaN</td>\n",
              "      <td>WNW</td>\n",
              "      <td>39.0</td>\n",
              "      <td>ESE</td>\n",
              "      <td>...</td>\n",
              "      <td>4.0</td>\n",
              "      <td>74.0</td>\n",
              "      <td>86.0</td>\n",
              "      <td>1008.9</td>\n",
              "      <td>1002.4</td>\n",
              "      <td>8.0</td>\n",
              "      <td>8.0</td>\n",
              "      <td>14.9</td>\n",
              "      <td>15.1</td>\n",
              "      <td>0</td>\n",
              "    </tr>\n",
              "    <tr>\n",
              "      <th>4</th>\n",
              "      <td>19/05/2009</td>\n",
              "      <td>Albury</td>\n",
              "      <td>3.7</td>\n",
              "      <td>19.1</td>\n",
              "      <td>0.0</td>\n",
              "      <td>NaN</td>\n",
              "      <td>NaN</td>\n",
              "      <td>SSE</td>\n",
              "      <td>19.0</td>\n",
              "      <td>NaN</td>\n",
              "      <td>...</td>\n",
              "      <td>11.0</td>\n",
              "      <td>87.0</td>\n",
              "      <td>51.0</td>\n",
              "      <td>1023.6</td>\n",
              "      <td>1019.9</td>\n",
              "      <td>NaN</td>\n",
              "      <td>NaN</td>\n",
              "      <td>7.4</td>\n",
              "      <td>18.9</td>\n",
              "      <td>0</td>\n",
              "    </tr>\n",
              "  </tbody>\n",
              "</table>\n",
              "<p>5 rows × 22 columns</p>\n",
              "</div>\n",
              "    <div class=\"colab-df-buttons\">\n",
              "\n",
              "  <div class=\"colab-df-container\">\n",
              "    <button class=\"colab-df-convert\" onclick=\"convertToInteractive('df-b6313574-bc51-4382-9207-3e6ec4ce23e3')\"\n",
              "            title=\"Convert this dataframe to an interactive table.\"\n",
              "            style=\"display:none;\">\n",
              "\n",
              "  <svg xmlns=\"http://www.w3.org/2000/svg\" height=\"24px\" viewBox=\"0 -960 960 960\">\n",
              "    <path d=\"M120-120v-720h720v720H120Zm60-500h600v-160H180v160Zm220 220h160v-160H400v160Zm0 220h160v-160H400v160ZM180-400h160v-160H180v160Zm440 0h160v-160H620v160ZM180-180h160v-160H180v160Zm440 0h160v-160H620v160Z\"/>\n",
              "  </svg>\n",
              "    </button>\n",
              "\n",
              "  <style>\n",
              "    .colab-df-container {\n",
              "      display:flex;\n",
              "      gap: 12px;\n",
              "    }\n",
              "\n",
              "    .colab-df-convert {\n",
              "      background-color: #E8F0FE;\n",
              "      border: none;\n",
              "      border-radius: 50%;\n",
              "      cursor: pointer;\n",
              "      display: none;\n",
              "      fill: #1967D2;\n",
              "      height: 32px;\n",
              "      padding: 0 0 0 0;\n",
              "      width: 32px;\n",
              "    }\n",
              "\n",
              "    .colab-df-convert:hover {\n",
              "      background-color: #E2EBFA;\n",
              "      box-shadow: 0px 1px 2px rgba(60, 64, 67, 0.3), 0px 1px 3px 1px rgba(60, 64, 67, 0.15);\n",
              "      fill: #174EA6;\n",
              "    }\n",
              "\n",
              "    .colab-df-buttons div {\n",
              "      margin-bottom: 4px;\n",
              "    }\n",
              "\n",
              "    [theme=dark] .colab-df-convert {\n",
              "      background-color: #3B4455;\n",
              "      fill: #D2E3FC;\n",
              "    }\n",
              "\n",
              "    [theme=dark] .colab-df-convert:hover {\n",
              "      background-color: #434B5C;\n",
              "      box-shadow: 0px 1px 3px 1px rgba(0, 0, 0, 0.15);\n",
              "      filter: drop-shadow(0px 1px 2px rgba(0, 0, 0, 0.3));\n",
              "      fill: #FFFFFF;\n",
              "    }\n",
              "  </style>\n",
              "\n",
              "    <script>\n",
              "      const buttonEl =\n",
              "        document.querySelector('#df-b6313574-bc51-4382-9207-3e6ec4ce23e3 button.colab-df-convert');\n",
              "      buttonEl.style.display =\n",
              "        google.colab.kernel.accessAllowed ? 'block' : 'none';\n",
              "\n",
              "      async function convertToInteractive(key) {\n",
              "        const element = document.querySelector('#df-b6313574-bc51-4382-9207-3e6ec4ce23e3');\n",
              "        const dataTable =\n",
              "          await google.colab.kernel.invokeFunction('convertToInteractive',\n",
              "                                                    [key], {});\n",
              "        if (!dataTable) return;\n",
              "\n",
              "        const docLinkHtml = 'Like what you see? Visit the ' +\n",
              "          '<a target=\"_blank\" href=https://colab.research.google.com/notebooks/data_table.ipynb>data table notebook</a>'\n",
              "          + ' to learn more about interactive tables.';\n",
              "        element.innerHTML = '';\n",
              "        dataTable['output_type'] = 'display_data';\n",
              "        await google.colab.output.renderOutput(dataTable, element);\n",
              "        const docLink = document.createElement('div');\n",
              "        docLink.innerHTML = docLinkHtml;\n",
              "        element.appendChild(docLink);\n",
              "      }\n",
              "    </script>\n",
              "  </div>\n",
              "\n",
              "\n",
              "<div id=\"df-688004ef-0b2e-4fd0-88ba-90f8361b3e72\">\n",
              "  <button class=\"colab-df-quickchart\" onclick=\"quickchart('df-688004ef-0b2e-4fd0-88ba-90f8361b3e72')\"\n",
              "            title=\"Suggest charts\"\n",
              "            style=\"display:none;\">\n",
              "\n",
              "<svg xmlns=\"http://www.w3.org/2000/svg\" height=\"24px\"viewBox=\"0 0 24 24\"\n",
              "     width=\"24px\">\n",
              "    <g>\n",
              "        <path d=\"M19 3H5c-1.1 0-2 .9-2 2v14c0 1.1.9 2 2 2h14c1.1 0 2-.9 2-2V5c0-1.1-.9-2-2-2zM9 17H7v-7h2v7zm4 0h-2V7h2v10zm4 0h-2v-4h2v4z\"/>\n",
              "    </g>\n",
              "</svg>\n",
              "  </button>\n",
              "\n",
              "<style>\n",
              "  .colab-df-quickchart {\n",
              "      --bg-color: #E8F0FE;\n",
              "      --fill-color: #1967D2;\n",
              "      --hover-bg-color: #E2EBFA;\n",
              "      --hover-fill-color: #174EA6;\n",
              "      --disabled-fill-color: #AAA;\n",
              "      --disabled-bg-color: #DDD;\n",
              "  }\n",
              "\n",
              "  [theme=dark] .colab-df-quickchart {\n",
              "      --bg-color: #3B4455;\n",
              "      --fill-color: #D2E3FC;\n",
              "      --hover-bg-color: #434B5C;\n",
              "      --hover-fill-color: #FFFFFF;\n",
              "      --disabled-bg-color: #3B4455;\n",
              "      --disabled-fill-color: #666;\n",
              "  }\n",
              "\n",
              "  .colab-df-quickchart {\n",
              "    background-color: var(--bg-color);\n",
              "    border: none;\n",
              "    border-radius: 50%;\n",
              "    cursor: pointer;\n",
              "    display: none;\n",
              "    fill: var(--fill-color);\n",
              "    height: 32px;\n",
              "    padding: 0;\n",
              "    width: 32px;\n",
              "  }\n",
              "\n",
              "  .colab-df-quickchart:hover {\n",
              "    background-color: var(--hover-bg-color);\n",
              "    box-shadow: 0 1px 2px rgba(60, 64, 67, 0.3), 0 1px 3px 1px rgba(60, 64, 67, 0.15);\n",
              "    fill: var(--button-hover-fill-color);\n",
              "  }\n",
              "\n",
              "  .colab-df-quickchart-complete:disabled,\n",
              "  .colab-df-quickchart-complete:disabled:hover {\n",
              "    background-color: var(--disabled-bg-color);\n",
              "    fill: var(--disabled-fill-color);\n",
              "    box-shadow: none;\n",
              "  }\n",
              "\n",
              "  .colab-df-spinner {\n",
              "    border: 2px solid var(--fill-color);\n",
              "    border-color: transparent;\n",
              "    border-bottom-color: var(--fill-color);\n",
              "    animation:\n",
              "      spin 1s steps(1) infinite;\n",
              "  }\n",
              "\n",
              "  @keyframes spin {\n",
              "    0% {\n",
              "      border-color: transparent;\n",
              "      border-bottom-color: var(--fill-color);\n",
              "      border-left-color: var(--fill-color);\n",
              "    }\n",
              "    20% {\n",
              "      border-color: transparent;\n",
              "      border-left-color: var(--fill-color);\n",
              "      border-top-color: var(--fill-color);\n",
              "    }\n",
              "    30% {\n",
              "      border-color: transparent;\n",
              "      border-left-color: var(--fill-color);\n",
              "      border-top-color: var(--fill-color);\n",
              "      border-right-color: var(--fill-color);\n",
              "    }\n",
              "    40% {\n",
              "      border-color: transparent;\n",
              "      border-right-color: var(--fill-color);\n",
              "      border-top-color: var(--fill-color);\n",
              "    }\n",
              "    60% {\n",
              "      border-color: transparent;\n",
              "      border-right-color: var(--fill-color);\n",
              "    }\n",
              "    80% {\n",
              "      border-color: transparent;\n",
              "      border-right-color: var(--fill-color);\n",
              "      border-bottom-color: var(--fill-color);\n",
              "    }\n",
              "    90% {\n",
              "      border-color: transparent;\n",
              "      border-bottom-color: var(--fill-color);\n",
              "    }\n",
              "  }\n",
              "</style>\n",
              "\n",
              "  <script>\n",
              "    async function quickchart(key) {\n",
              "      const quickchartButtonEl =\n",
              "        document.querySelector('#' + key + ' button');\n",
              "      quickchartButtonEl.disabled = true;  // To prevent multiple clicks.\n",
              "      quickchartButtonEl.classList.add('colab-df-spinner');\n",
              "      try {\n",
              "        const charts = await google.colab.kernel.invokeFunction(\n",
              "            'suggestCharts', [key], {});\n",
              "      } catch (error) {\n",
              "        console.error('Error during call to suggestCharts:', error);\n",
              "      }\n",
              "      quickchartButtonEl.classList.remove('colab-df-spinner');\n",
              "      quickchartButtonEl.classList.add('colab-df-quickchart-complete');\n",
              "    }\n",
              "    (() => {\n",
              "      let quickchartButtonEl =\n",
              "        document.querySelector('#df-688004ef-0b2e-4fd0-88ba-90f8361b3e72 button');\n",
              "      quickchartButtonEl.style.display =\n",
              "        google.colab.kernel.accessAllowed ? 'block' : 'none';\n",
              "    })();\n",
              "  </script>\n",
              "</div>\n",
              "    </div>\n",
              "  </div>\n"
            ]
          },
          "metadata": {},
          "execution_count": 7
        }
      ]
    },
    {
      "cell_type": "markdown",
      "source": [
        "### 2. Διερευνητική ανάλυση δεδομένων -Exploratory Data Analysis (EDA)\n",
        "Χρησιμοποιήστε code cells  με τις κατάλληλες τεχνικές EDA για την κατανόηση του συνόλου δεδομένων και text cells για επεξήγηση των αποτελεσμάτων."
      ],
      "metadata": {
        "id": "wrxF1hO1HPpJ"
      }
    },
    {
      "cell_type": "markdown",
      "source": [
        "Χρησιμοποιώντας τις κατάλληλες μεθόδους παρουσιάστε με χρήση κώδικα πληροφορίες για τα εξής:\n",
        "\n",
        "2α. το πλήθος των δειγμάτων και των χαρακτηριστικών του συνόλου δεδομένων,\n",
        "\n",
        "2β. το είδος των χαρακτηριστικών του συνόλου δεδομένων,  \n",
        "\n",
        "2γ. τις ετικέτες των χαρακτηριστικών,\n",
        "\n",
        "2δ. το πλήθος των κατηγοριών,\n",
        "\n",
        "2ε. πόσα δείγματα ανήκουν σε κάθε κατηγορία,\n",
        "\n",
        "2στ. τη συσχέτιση μεταξύ των δεδομένων,\n",
        "\n",
        "2ζ. οποιαδήποτε άλλη πληροφορία πιστεύετε ότι είναι χρήσιμη για την κατανόηση του συνόλου δεδομένων."
      ],
      "metadata": {
        "id": "fT33H0HPJ7Hg"
      }
    },
    {
      "cell_type": "code",
      "source": [
        "# 2a Display the number of samples and characteristics of the train-val dataset\n",
        "\n",
        "num_samples, num_features = train_val.shape\n",
        "print(train_val.shape)\n",
        "print(f\"The number of samples: {num_samples}\")\n",
        "print(f\"The number of features: {num_features}\")"
      ],
      "metadata": {
        "id": "dnd0K49PNK1T",
        "colab": {
          "base_uri": "https://localhost:8080/"
        },
        "outputId": "86eb43dd-377b-4737-e0ac-aa8265abda8c"
      },
      "execution_count": 4,
      "outputs": [
        {
          "output_type": "stream",
          "name": "stdout",
          "text": [
            "(48423, 24)\n",
            "The number of samples: 48423\n",
            "The number of features: 24\n"
          ]
        }
      ]
    },
    {
      "cell_type": "markdown",
      "source": [
        " The DataFrame.shape attribute in Pandas enables us to obtain the shape of a DataFrame."
      ],
      "metadata": {
        "id": "LB-ZQGQxnwkn"
      }
    },
    {
      "cell_type": "code",
      "source": [
        "# 2b Display the data types of each column in the train-val dataset\n",
        "data_types = train_val.dtypes\n",
        "data_types"
      ],
      "metadata": {
        "colab": {
          "base_uri": "https://localhost:8080/"
        },
        "id": "GP-BgXiDm-8L",
        "outputId": "dcb671cd-c3ef-4eee-ed29-2b0945c78c16"
      },
      "execution_count": 5,
      "outputs": [
        {
          "output_type": "execute_result",
          "data": {
            "text/plain": [
              "id                 int64\n",
              "Date              object\n",
              "Location          object\n",
              "MinTemp          float64\n",
              "MaxTemp          float64\n",
              "Rainfall         float64\n",
              "Evaporation      float64\n",
              "Sunshine         float64\n",
              "WindGustDir       object\n",
              "WindGustSpeed    float64\n",
              "WindDir9am        object\n",
              "WindDir3pm        object\n",
              "WindSpeed9am     float64\n",
              "WindSpeed3pm     float64\n",
              "Humidity9am      float64\n",
              "Humidity3pm      float64\n",
              "Pressure9am      float64\n",
              "Pressure3pm      float64\n",
              "Cloud9am         float64\n",
              "Cloud3pm         float64\n",
              "Temp9am          float64\n",
              "Temp3pm          float64\n",
              "RainToday        float64\n",
              "RainTomorrow     float64\n",
              "dtype: object"
            ]
          },
          "metadata": {},
          "execution_count": 5
        }
      ]
    },
    {
      "cell_type": "markdown",
      "source": [
        " Use dtypes to check the data types of each column in the DataFrame"
      ],
      "metadata": {
        "id": "9T9w4DuYk2Zw"
      }
    },
    {
      "cell_type": "code",
      "source": [
        "# 2c Display the  labels of  of the train-val dataset\n",
        "attribute_labes = train_val.columns\n",
        "attribute_labes"
      ],
      "metadata": {
        "colab": {
          "base_uri": "https://localhost:8080/"
        },
        "id": "TfJkSUu4n72F",
        "outputId": "15d856e3-4a53-4566-a479-bbad892ee960"
      },
      "execution_count": 6,
      "outputs": [
        {
          "output_type": "execute_result",
          "data": {
            "text/plain": [
              "Index(['id', 'Date', 'Location', 'MinTemp', 'MaxTemp', 'Rainfall',\n",
              "       'Evaporation', 'Sunshine', 'WindGustDir', 'WindGustSpeed', 'WindDir9am',\n",
              "       'WindDir3pm', 'WindSpeed9am', 'WindSpeed3pm', 'Humidity9am',\n",
              "       'Humidity3pm', 'Pressure9am', 'Pressure3pm', 'Cloud9am', 'Cloud3pm',\n",
              "       'Temp9am', 'Temp3pm', 'RainToday', 'RainTomorrow'],\n",
              "      dtype='object')"
            ]
          },
          "metadata": {},
          "execution_count": 6
        }
      ]
    },
    {
      "cell_type": "code",
      "source": [
        "# 2d Display the number of categories in each categorical column of the train-val dataset\n",
        "categorical_columns = train_val.select_dtypes(include='object').columns\n",
        "num_categories = train_val[categorical_columns].nunique()\n",
        "num_categories\n",
        "\n",
        "# two classes of raintomor\n"
      ],
      "metadata": {
        "id": "Z0omAdbioNGd",
        "colab": {
          "base_uri": "https://localhost:8080/"
        },
        "outputId": "e0fade38-58bd-4336-8842-c048e28c4d70"
      },
      "execution_count": 7,
      "outputs": [
        {
          "output_type": "execute_result",
          "data": {
            "text/plain": [
              "Date           2534\n",
              "Location         49\n",
              "WindGustDir      16\n",
              "WindDir9am       16\n",
              "WindDir3pm       16\n",
              "dtype: int64"
            ]
          },
          "metadata": {},
          "execution_count": 7
        }
      ]
    },
    {
      "cell_type": "code",
      "source": [
        "# 2e Display the count of each category in categorical columns of the train-val dataset\n",
        "category_counts = train_val[categorical_columns].apply(lambda col: col.value_counts())\n",
        "category_counts"
      ],
      "metadata": {
        "id": "1cOqUT--pDLN",
        "colab": {
          "base_uri": "https://localhost:8080/",
          "height": 436
        },
        "outputId": "cea1c11b-d8c5-4720-efe0-8dfa55925ee2"
      },
      "execution_count": 8,
      "outputs": [
        {
          "output_type": "execute_result",
          "data": {
            "text/plain": [
              "             Date  Location  WindGustDir  WindDir9am  WindDir3pm\n",
              "2007-11-03    1.0       NaN          NaN         NaN         NaN\n",
              "2007-11-04    1.0       NaN          NaN         NaN         NaN\n",
              "2007-11-06    1.0       NaN          NaN         NaN         NaN\n",
              "2007-11-07    1.0       NaN          NaN         NaN         NaN\n",
              "2007-11-08    1.0       NaN          NaN         NaN         NaN\n",
              "...           ...       ...          ...         ...         ...\n",
              "Watsonia      NaN    1021.0          NaN         NaN         NaN\n",
              "Williamtown   NaN     821.0          NaN         NaN         NaN\n",
              "Witchcliffe   NaN    1004.0          NaN         NaN         NaN\n",
              "Wollongong    NaN    1034.0          NaN         NaN         NaN\n",
              "Woomera       NaN    1044.0          NaN         NaN         NaN\n",
              "\n",
              "[2599 rows x 5 columns]"
            ],
            "text/html": [
              "\n",
              "  <div id=\"df-d63ce4f7-5857-45d8-b1ca-88dbbc9b19b8\" class=\"colab-df-container\">\n",
              "    <div>\n",
              "<style scoped>\n",
              "    .dataframe tbody tr th:only-of-type {\n",
              "        vertical-align: middle;\n",
              "    }\n",
              "\n",
              "    .dataframe tbody tr th {\n",
              "        vertical-align: top;\n",
              "    }\n",
              "\n",
              "    .dataframe thead th {\n",
              "        text-align: right;\n",
              "    }\n",
              "</style>\n",
              "<table border=\"1\" class=\"dataframe\">\n",
              "  <thead>\n",
              "    <tr style=\"text-align: right;\">\n",
              "      <th></th>\n",
              "      <th>Date</th>\n",
              "      <th>Location</th>\n",
              "      <th>WindGustDir</th>\n",
              "      <th>WindDir9am</th>\n",
              "      <th>WindDir3pm</th>\n",
              "    </tr>\n",
              "  </thead>\n",
              "  <tbody>\n",
              "    <tr>\n",
              "      <th>2007-11-03</th>\n",
              "      <td>1.0</td>\n",
              "      <td>NaN</td>\n",
              "      <td>NaN</td>\n",
              "      <td>NaN</td>\n",
              "      <td>NaN</td>\n",
              "    </tr>\n",
              "    <tr>\n",
              "      <th>2007-11-04</th>\n",
              "      <td>1.0</td>\n",
              "      <td>NaN</td>\n",
              "      <td>NaN</td>\n",
              "      <td>NaN</td>\n",
              "      <td>NaN</td>\n",
              "    </tr>\n",
              "    <tr>\n",
              "      <th>2007-11-06</th>\n",
              "      <td>1.0</td>\n",
              "      <td>NaN</td>\n",
              "      <td>NaN</td>\n",
              "      <td>NaN</td>\n",
              "      <td>NaN</td>\n",
              "    </tr>\n",
              "    <tr>\n",
              "      <th>2007-11-07</th>\n",
              "      <td>1.0</td>\n",
              "      <td>NaN</td>\n",
              "      <td>NaN</td>\n",
              "      <td>NaN</td>\n",
              "      <td>NaN</td>\n",
              "    </tr>\n",
              "    <tr>\n",
              "      <th>2007-11-08</th>\n",
              "      <td>1.0</td>\n",
              "      <td>NaN</td>\n",
              "      <td>NaN</td>\n",
              "      <td>NaN</td>\n",
              "      <td>NaN</td>\n",
              "    </tr>\n",
              "    <tr>\n",
              "      <th>...</th>\n",
              "      <td>...</td>\n",
              "      <td>...</td>\n",
              "      <td>...</td>\n",
              "      <td>...</td>\n",
              "      <td>...</td>\n",
              "    </tr>\n",
              "    <tr>\n",
              "      <th>Watsonia</th>\n",
              "      <td>NaN</td>\n",
              "      <td>1021.0</td>\n",
              "      <td>NaN</td>\n",
              "      <td>NaN</td>\n",
              "      <td>NaN</td>\n",
              "    </tr>\n",
              "    <tr>\n",
              "      <th>Williamtown</th>\n",
              "      <td>NaN</td>\n",
              "      <td>821.0</td>\n",
              "      <td>NaN</td>\n",
              "      <td>NaN</td>\n",
              "      <td>NaN</td>\n",
              "    </tr>\n",
              "    <tr>\n",
              "      <th>Witchcliffe</th>\n",
              "      <td>NaN</td>\n",
              "      <td>1004.0</td>\n",
              "      <td>NaN</td>\n",
              "      <td>NaN</td>\n",
              "      <td>NaN</td>\n",
              "    </tr>\n",
              "    <tr>\n",
              "      <th>Wollongong</th>\n",
              "      <td>NaN</td>\n",
              "      <td>1034.0</td>\n",
              "      <td>NaN</td>\n",
              "      <td>NaN</td>\n",
              "      <td>NaN</td>\n",
              "    </tr>\n",
              "    <tr>\n",
              "      <th>Woomera</th>\n",
              "      <td>NaN</td>\n",
              "      <td>1044.0</td>\n",
              "      <td>NaN</td>\n",
              "      <td>NaN</td>\n",
              "      <td>NaN</td>\n",
              "    </tr>\n",
              "  </tbody>\n",
              "</table>\n",
              "<p>2599 rows × 5 columns</p>\n",
              "</div>\n",
              "    <div class=\"colab-df-buttons\">\n",
              "\n",
              "  <div class=\"colab-df-container\">\n",
              "    <button class=\"colab-df-convert\" onclick=\"convertToInteractive('df-d63ce4f7-5857-45d8-b1ca-88dbbc9b19b8')\"\n",
              "            title=\"Convert this dataframe to an interactive table.\"\n",
              "            style=\"display:none;\">\n",
              "\n",
              "  <svg xmlns=\"http://www.w3.org/2000/svg\" height=\"24px\" viewBox=\"0 -960 960 960\">\n",
              "    <path d=\"M120-120v-720h720v720H120Zm60-500h600v-160H180v160Zm220 220h160v-160H400v160Zm0 220h160v-160H400v160ZM180-400h160v-160H180v160Zm440 0h160v-160H620v160ZM180-180h160v-160H180v160Zm440 0h160v-160H620v160Z\"/>\n",
              "  </svg>\n",
              "    </button>\n",
              "\n",
              "  <style>\n",
              "    .colab-df-container {\n",
              "      display:flex;\n",
              "      gap: 12px;\n",
              "    }\n",
              "\n",
              "    .colab-df-convert {\n",
              "      background-color: #E8F0FE;\n",
              "      border: none;\n",
              "      border-radius: 50%;\n",
              "      cursor: pointer;\n",
              "      display: none;\n",
              "      fill: #1967D2;\n",
              "      height: 32px;\n",
              "      padding: 0 0 0 0;\n",
              "      width: 32px;\n",
              "    }\n",
              "\n",
              "    .colab-df-convert:hover {\n",
              "      background-color: #E2EBFA;\n",
              "      box-shadow: 0px 1px 2px rgba(60, 64, 67, 0.3), 0px 1px 3px 1px rgba(60, 64, 67, 0.15);\n",
              "      fill: #174EA6;\n",
              "    }\n",
              "\n",
              "    .colab-df-buttons div {\n",
              "      margin-bottom: 4px;\n",
              "    }\n",
              "\n",
              "    [theme=dark] .colab-df-convert {\n",
              "      background-color: #3B4455;\n",
              "      fill: #D2E3FC;\n",
              "    }\n",
              "\n",
              "    [theme=dark] .colab-df-convert:hover {\n",
              "      background-color: #434B5C;\n",
              "      box-shadow: 0px 1px 3px 1px rgba(0, 0, 0, 0.15);\n",
              "      filter: drop-shadow(0px 1px 2px rgba(0, 0, 0, 0.3));\n",
              "      fill: #FFFFFF;\n",
              "    }\n",
              "  </style>\n",
              "\n",
              "    <script>\n",
              "      const buttonEl =\n",
              "        document.querySelector('#df-d63ce4f7-5857-45d8-b1ca-88dbbc9b19b8 button.colab-df-convert');\n",
              "      buttonEl.style.display =\n",
              "        google.colab.kernel.accessAllowed ? 'block' : 'none';\n",
              "\n",
              "      async function convertToInteractive(key) {\n",
              "        const element = document.querySelector('#df-d63ce4f7-5857-45d8-b1ca-88dbbc9b19b8');\n",
              "        const dataTable =\n",
              "          await google.colab.kernel.invokeFunction('convertToInteractive',\n",
              "                                                    [key], {});\n",
              "        if (!dataTable) return;\n",
              "\n",
              "        const docLinkHtml = 'Like what you see? Visit the ' +\n",
              "          '<a target=\"_blank\" href=https://colab.research.google.com/notebooks/data_table.ipynb>data table notebook</a>'\n",
              "          + ' to learn more about interactive tables.';\n",
              "        element.innerHTML = '';\n",
              "        dataTable['output_type'] = 'display_data';\n",
              "        await google.colab.output.renderOutput(dataTable, element);\n",
              "        const docLink = document.createElement('div');\n",
              "        docLink.innerHTML = docLinkHtml;\n",
              "        element.appendChild(docLink);\n",
              "      }\n",
              "    </script>\n",
              "  </div>\n",
              "\n",
              "\n",
              "<div id=\"df-d2a143f9-0988-443d-be31-149e730c387d\">\n",
              "  <button class=\"colab-df-quickchart\" onclick=\"quickchart('df-d2a143f9-0988-443d-be31-149e730c387d')\"\n",
              "            title=\"Suggest charts\"\n",
              "            style=\"display:none;\">\n",
              "\n",
              "<svg xmlns=\"http://www.w3.org/2000/svg\" height=\"24px\"viewBox=\"0 0 24 24\"\n",
              "     width=\"24px\">\n",
              "    <g>\n",
              "        <path d=\"M19 3H5c-1.1 0-2 .9-2 2v14c0 1.1.9 2 2 2h14c1.1 0 2-.9 2-2V5c0-1.1-.9-2-2-2zM9 17H7v-7h2v7zm4 0h-2V7h2v10zm4 0h-2v-4h2v4z\"/>\n",
              "    </g>\n",
              "</svg>\n",
              "  </button>\n",
              "\n",
              "<style>\n",
              "  .colab-df-quickchart {\n",
              "      --bg-color: #E8F0FE;\n",
              "      --fill-color: #1967D2;\n",
              "      --hover-bg-color: #E2EBFA;\n",
              "      --hover-fill-color: #174EA6;\n",
              "      --disabled-fill-color: #AAA;\n",
              "      --disabled-bg-color: #DDD;\n",
              "  }\n",
              "\n",
              "  [theme=dark] .colab-df-quickchart {\n",
              "      --bg-color: #3B4455;\n",
              "      --fill-color: #D2E3FC;\n",
              "      --hover-bg-color: #434B5C;\n",
              "      --hover-fill-color: #FFFFFF;\n",
              "      --disabled-bg-color: #3B4455;\n",
              "      --disabled-fill-color: #666;\n",
              "  }\n",
              "\n",
              "  .colab-df-quickchart {\n",
              "    background-color: var(--bg-color);\n",
              "    border: none;\n",
              "    border-radius: 50%;\n",
              "    cursor: pointer;\n",
              "    display: none;\n",
              "    fill: var(--fill-color);\n",
              "    height: 32px;\n",
              "    padding: 0;\n",
              "    width: 32px;\n",
              "  }\n",
              "\n",
              "  .colab-df-quickchart:hover {\n",
              "    background-color: var(--hover-bg-color);\n",
              "    box-shadow: 0 1px 2px rgba(60, 64, 67, 0.3), 0 1px 3px 1px rgba(60, 64, 67, 0.15);\n",
              "    fill: var(--button-hover-fill-color);\n",
              "  }\n",
              "\n",
              "  .colab-df-quickchart-complete:disabled,\n",
              "  .colab-df-quickchart-complete:disabled:hover {\n",
              "    background-color: var(--disabled-bg-color);\n",
              "    fill: var(--disabled-fill-color);\n",
              "    box-shadow: none;\n",
              "  }\n",
              "\n",
              "  .colab-df-spinner {\n",
              "    border: 2px solid var(--fill-color);\n",
              "    border-color: transparent;\n",
              "    border-bottom-color: var(--fill-color);\n",
              "    animation:\n",
              "      spin 1s steps(1) infinite;\n",
              "  }\n",
              "\n",
              "  @keyframes spin {\n",
              "    0% {\n",
              "      border-color: transparent;\n",
              "      border-bottom-color: var(--fill-color);\n",
              "      border-left-color: var(--fill-color);\n",
              "    }\n",
              "    20% {\n",
              "      border-color: transparent;\n",
              "      border-left-color: var(--fill-color);\n",
              "      border-top-color: var(--fill-color);\n",
              "    }\n",
              "    30% {\n",
              "      border-color: transparent;\n",
              "      border-left-color: var(--fill-color);\n",
              "      border-top-color: var(--fill-color);\n",
              "      border-right-color: var(--fill-color);\n",
              "    }\n",
              "    40% {\n",
              "      border-color: transparent;\n",
              "      border-right-color: var(--fill-color);\n",
              "      border-top-color: var(--fill-color);\n",
              "    }\n",
              "    60% {\n",
              "      border-color: transparent;\n",
              "      border-right-color: var(--fill-color);\n",
              "    }\n",
              "    80% {\n",
              "      border-color: transparent;\n",
              "      border-right-color: var(--fill-color);\n",
              "      border-bottom-color: var(--fill-color);\n",
              "    }\n",
              "    90% {\n",
              "      border-color: transparent;\n",
              "      border-bottom-color: var(--fill-color);\n",
              "    }\n",
              "  }\n",
              "</style>\n",
              "\n",
              "  <script>\n",
              "    async function quickchart(key) {\n",
              "      const quickchartButtonEl =\n",
              "        document.querySelector('#' + key + ' button');\n",
              "      quickchartButtonEl.disabled = true;  // To prevent multiple clicks.\n",
              "      quickchartButtonEl.classList.add('colab-df-spinner');\n",
              "      try {\n",
              "        const charts = await google.colab.kernel.invokeFunction(\n",
              "            'suggestCharts', [key], {});\n",
              "      } catch (error) {\n",
              "        console.error('Error during call to suggestCharts:', error);\n",
              "      }\n",
              "      quickchartButtonEl.classList.remove('colab-df-spinner');\n",
              "      quickchartButtonEl.classList.add('colab-df-quickchart-complete');\n",
              "    }\n",
              "    (() => {\n",
              "      let quickchartButtonEl =\n",
              "        document.querySelector('#df-d2a143f9-0988-443d-be31-149e730c387d button');\n",
              "      quickchartButtonEl.style.display =\n",
              "        google.colab.kernel.accessAllowed ? 'block' : 'none';\n",
              "    })();\n",
              "  </script>\n",
              "</div>\n",
              "    </div>\n",
              "  </div>\n"
            ]
          },
          "metadata": {},
          "execution_count": 8
        }
      ]
    },
    {
      "cell_type": "code",
      "source": [
        "# 2f Display the correlation between data of train-val dataset\n",
        "correlation_matrix = train_val.corr()\n",
        "correlation_matrix"
      ],
      "metadata": {
        "colab": {
          "base_uri": "https://localhost:8080/",
          "height": 688
        },
        "id": "76myCFUhqLEU",
        "outputId": "0664fb86-5f1e-4acd-e510-f313d4e7dfc5"
      },
      "execution_count": 9,
      "outputs": [
        {
          "output_type": "stream",
          "name": "stderr",
          "text": [
            "<ipython-input-9-4b87c53f4a73>:2: FutureWarning: The default value of numeric_only in DataFrame.corr is deprecated. In a future version, it will default to False. Select only valid columns or specify the value of numeric_only to silence this warning.\n",
            "  correlation_matrix = train_val.corr()\n"
          ]
        },
        {
          "output_type": "execute_result",
          "data": {
            "text/plain": [
              "                     id   MinTemp   MaxTemp  Rainfall  Evaporation  Sunshine  \\\n",
              "id             1.000000  0.104771  0.136331 -0.024047     0.096221  0.078911   \n",
              "MinTemp        0.104771  1.000000  0.715692  0.096510     0.457483  0.053477   \n",
              "MaxTemp        0.136331  0.715692  1.000000 -0.103864     0.586798  0.469859   \n",
              "Rainfall      -0.024047  0.096510 -0.103864  1.000000    -0.069284 -0.210261   \n",
              "Evaporation    0.096221  0.457483  0.586798 -0.069284     1.000000  0.351482   \n",
              "Sunshine       0.078911  0.053477  0.469859 -0.210261     0.351482  1.000000   \n",
              "WindGustSpeed  0.047488  0.163349  0.013580  0.160382     0.194751 -0.051283   \n",
              "WindSpeed9am   0.062482  0.193476  0.003229  0.102262     0.208774 -0.001514   \n",
              "WindSpeed3pm   0.040819  0.183079  0.054409  0.068231     0.154487  0.055941   \n",
              "Humidity9am   -0.129400 -0.232420 -0.485241  0.217506    -0.521304 -0.471021   \n",
              "Humidity3pm   -0.085483  0.021193 -0.504320  0.258283    -0.392778 -0.634892   \n",
              "Pressure9am   -0.104157 -0.372295 -0.224734 -0.178761    -0.226294  0.078309   \n",
              "Pressure3pm   -0.108251 -0.385832 -0.331614 -0.125762    -0.261228  0.010106   \n",
              "Cloud9am      -0.073085  0.071455 -0.304386  0.202290    -0.188185 -0.693561   \n",
              "Cloud3pm      -0.066481  0.006876 -0.305659  0.162473    -0.193911 -0.708928   \n",
              "Temp9am        0.139226  0.892621  0.881130 -0.007844     0.556079  0.286368   \n",
              "Temp3pm        0.120342  0.682041  0.984609 -0.108617     0.569842  0.492766   \n",
              "RainToday     -0.003840  0.065077 -0.247060  0.527639    -0.191368 -0.314345   \n",
              "RainTomorrow  -0.002691  0.084001 -0.177480  0.244867    -0.122146 -0.437883   \n",
              "\n",
              "               WindGustSpeed  WindSpeed9am  WindSpeed3pm  Humidity9am  \\\n",
              "id                  0.047488      0.062482      0.040819    -0.129400   \n",
              "MinTemp             0.163349      0.193476      0.183079    -0.232420   \n",
              "MaxTemp             0.013580      0.003229      0.054409    -0.485241   \n",
              "Rainfall            0.160382      0.102262      0.068231     0.217506   \n",
              "Evaporation         0.194751      0.208774      0.154487    -0.521304   \n",
              "Sunshine           -0.051283     -0.001514      0.055941    -0.471021   \n",
              "WindGustSpeed       1.000000      0.633542      0.715518    -0.214060   \n",
              "WindSpeed9am        0.633542      1.000000      0.541097    -0.289202   \n",
              "WindSpeed3pm        0.715518      0.541097      1.000000    -0.166434   \n",
              "Humidity9am        -0.214060     -0.289202     -0.166434     1.000000   \n",
              "Humidity3pm         0.004057     -0.019900     -0.003281     0.644709   \n",
              "Pressure9am        -0.485376     -0.266217     -0.327326     0.117477   \n",
              "Pressure3pm        -0.434426     -0.212422     -0.289712     0.167571   \n",
              "Cloud9am            0.086327      0.035081      0.048956     0.439629   \n",
              "Cloud3pm            0.125622      0.066148      0.032267     0.349397   \n",
              "Temp9am             0.123985      0.141875      0.169477    -0.472335   \n",
              "Temp3pm            -0.024427     -0.008063      0.030884    -0.478217   \n",
              "RainToday           0.188300      0.121898      0.097368     0.332583   \n",
              "RainTomorrow        0.258618      0.118477      0.109116     0.244048   \n",
              "\n",
              "               Humidity3pm  Pressure9am  Pressure3pm  Cloud9am  Cloud3pm  \\\n",
              "id               -0.085483    -0.104157    -0.108251 -0.073085 -0.066481   \n",
              "MinTemp           0.021193    -0.372295    -0.385832  0.071455  0.006876   \n",
              "MaxTemp          -0.504320    -0.224734    -0.331614 -0.304386 -0.305659   \n",
              "Rainfall          0.258283    -0.178761    -0.125762  0.202290  0.162473   \n",
              "Evaporation      -0.392778    -0.226294    -0.261228 -0.188185 -0.193911   \n",
              "Sunshine         -0.634892     0.078309     0.010106 -0.693561 -0.708928   \n",
              "WindGustSpeed     0.004057    -0.485376    -0.434426  0.086327  0.125622   \n",
              "WindSpeed9am     -0.019900    -0.266217    -0.212422  0.035081  0.066148   \n",
              "WindSpeed3pm     -0.003281    -0.327326    -0.289712  0.048956  0.032267   \n",
              "Humidity9am       0.644709     0.117477     0.167571  0.439629  0.349397   \n",
              "Humidity3pm       1.000000    -0.063572     0.019297  0.518187  0.536139   \n",
              "Pressure9am      -0.063572     1.000000     0.959218 -0.135572 -0.150569   \n",
              "Pressure3pm       0.019297     0.959218     1.000000 -0.065816 -0.082215   \n",
              "Cloud9am          0.518187    -0.135572    -0.065816  1.000000  0.609241   \n",
              "Cloud3pm          0.536139    -0.150569    -0.082215  0.609241  1.000000   \n",
              "Temp9am          -0.218612    -0.331612    -0.386751 -0.151065 -0.152008   \n",
              "Temp3pm          -0.556450    -0.175755    -0.289701 -0.315585 -0.347408   \n",
              "RainToday         0.375488    -0.216675    -0.121562  0.306448  0.262506   \n",
              "RainTomorrow      0.458234    -0.273063    -0.247978  0.322673  0.381305   \n",
              "\n",
              "                Temp9am   Temp3pm  RainToday  RainTomorrow  \n",
              "id             0.139226  0.120342  -0.003840     -0.002691  \n",
              "MinTemp        0.892621  0.682041   0.065077      0.084001  \n",
              "MaxTemp        0.881130  0.984609  -0.247060     -0.177480  \n",
              "Rainfall      -0.007844 -0.108617   0.527639      0.244867  \n",
              "Evaporation    0.556079  0.569842  -0.191368     -0.122146  \n",
              "Sunshine       0.286368  0.492766  -0.314345     -0.437883  \n",
              "WindGustSpeed  0.123985 -0.024427   0.188300      0.258618  \n",
              "WindSpeed9am   0.141875 -0.008063   0.121898      0.118477  \n",
              "WindSpeed3pm   0.169477  0.030884   0.097368      0.109116  \n",
              "Humidity9am   -0.472335 -0.478217   0.332583      0.244048  \n",
              "Humidity3pm   -0.218612 -0.556450   0.375488      0.458234  \n",
              "Pressure9am   -0.331612 -0.175755  -0.216675     -0.273063  \n",
              "Pressure3pm   -0.386751 -0.289701  -0.121562     -0.247978  \n",
              "Cloud9am      -0.151065 -0.315585   0.306448      0.322673  \n",
              "Cloud3pm      -0.152008 -0.347408   0.262506      0.381305  \n",
              "Temp9am        1.000000  0.850474  -0.100329     -0.034741  \n",
              "Temp3pm        0.850474  1.000000  -0.253352     -0.211749  \n",
              "RainToday     -0.100329 -0.253352   1.000000      0.314222  \n",
              "RainTomorrow  -0.034741 -0.211749   0.314222      1.000000  "
            ],
            "text/html": [
              "\n",
              "  <div id=\"df-394a2770-6b8b-439f-91ac-46d1bc4bb578\" class=\"colab-df-container\">\n",
              "    <div>\n",
              "<style scoped>\n",
              "    .dataframe tbody tr th:only-of-type {\n",
              "        vertical-align: middle;\n",
              "    }\n",
              "\n",
              "    .dataframe tbody tr th {\n",
              "        vertical-align: top;\n",
              "    }\n",
              "\n",
              "    .dataframe thead th {\n",
              "        text-align: right;\n",
              "    }\n",
              "</style>\n",
              "<table border=\"1\" class=\"dataframe\">\n",
              "  <thead>\n",
              "    <tr style=\"text-align: right;\">\n",
              "      <th></th>\n",
              "      <th>id</th>\n",
              "      <th>MinTemp</th>\n",
              "      <th>MaxTemp</th>\n",
              "      <th>Rainfall</th>\n",
              "      <th>Evaporation</th>\n",
              "      <th>Sunshine</th>\n",
              "      <th>WindGustSpeed</th>\n",
              "      <th>WindSpeed9am</th>\n",
              "      <th>WindSpeed3pm</th>\n",
              "      <th>Humidity9am</th>\n",
              "      <th>Humidity3pm</th>\n",
              "      <th>Pressure9am</th>\n",
              "      <th>Pressure3pm</th>\n",
              "      <th>Cloud9am</th>\n",
              "      <th>Cloud3pm</th>\n",
              "      <th>Temp9am</th>\n",
              "      <th>Temp3pm</th>\n",
              "      <th>RainToday</th>\n",
              "      <th>RainTomorrow</th>\n",
              "    </tr>\n",
              "  </thead>\n",
              "  <tbody>\n",
              "    <tr>\n",
              "      <th>id</th>\n",
              "      <td>1.000000</td>\n",
              "      <td>0.104771</td>\n",
              "      <td>0.136331</td>\n",
              "      <td>-0.024047</td>\n",
              "      <td>0.096221</td>\n",
              "      <td>0.078911</td>\n",
              "      <td>0.047488</td>\n",
              "      <td>0.062482</td>\n",
              "      <td>0.040819</td>\n",
              "      <td>-0.129400</td>\n",
              "      <td>-0.085483</td>\n",
              "      <td>-0.104157</td>\n",
              "      <td>-0.108251</td>\n",
              "      <td>-0.073085</td>\n",
              "      <td>-0.066481</td>\n",
              "      <td>0.139226</td>\n",
              "      <td>0.120342</td>\n",
              "      <td>-0.003840</td>\n",
              "      <td>-0.002691</td>\n",
              "    </tr>\n",
              "    <tr>\n",
              "      <th>MinTemp</th>\n",
              "      <td>0.104771</td>\n",
              "      <td>1.000000</td>\n",
              "      <td>0.715692</td>\n",
              "      <td>0.096510</td>\n",
              "      <td>0.457483</td>\n",
              "      <td>0.053477</td>\n",
              "      <td>0.163349</td>\n",
              "      <td>0.193476</td>\n",
              "      <td>0.183079</td>\n",
              "      <td>-0.232420</td>\n",
              "      <td>0.021193</td>\n",
              "      <td>-0.372295</td>\n",
              "      <td>-0.385832</td>\n",
              "      <td>0.071455</td>\n",
              "      <td>0.006876</td>\n",
              "      <td>0.892621</td>\n",
              "      <td>0.682041</td>\n",
              "      <td>0.065077</td>\n",
              "      <td>0.084001</td>\n",
              "    </tr>\n",
              "    <tr>\n",
              "      <th>MaxTemp</th>\n",
              "      <td>0.136331</td>\n",
              "      <td>0.715692</td>\n",
              "      <td>1.000000</td>\n",
              "      <td>-0.103864</td>\n",
              "      <td>0.586798</td>\n",
              "      <td>0.469859</td>\n",
              "      <td>0.013580</td>\n",
              "      <td>0.003229</td>\n",
              "      <td>0.054409</td>\n",
              "      <td>-0.485241</td>\n",
              "      <td>-0.504320</td>\n",
              "      <td>-0.224734</td>\n",
              "      <td>-0.331614</td>\n",
              "      <td>-0.304386</td>\n",
              "      <td>-0.305659</td>\n",
              "      <td>0.881130</td>\n",
              "      <td>0.984609</td>\n",
              "      <td>-0.247060</td>\n",
              "      <td>-0.177480</td>\n",
              "    </tr>\n",
              "    <tr>\n",
              "      <th>Rainfall</th>\n",
              "      <td>-0.024047</td>\n",
              "      <td>0.096510</td>\n",
              "      <td>-0.103864</td>\n",
              "      <td>1.000000</td>\n",
              "      <td>-0.069284</td>\n",
              "      <td>-0.210261</td>\n",
              "      <td>0.160382</td>\n",
              "      <td>0.102262</td>\n",
              "      <td>0.068231</td>\n",
              "      <td>0.217506</td>\n",
              "      <td>0.258283</td>\n",
              "      <td>-0.178761</td>\n",
              "      <td>-0.125762</td>\n",
              "      <td>0.202290</td>\n",
              "      <td>0.162473</td>\n",
              "      <td>-0.007844</td>\n",
              "      <td>-0.108617</td>\n",
              "      <td>0.527639</td>\n",
              "      <td>0.244867</td>\n",
              "    </tr>\n",
              "    <tr>\n",
              "      <th>Evaporation</th>\n",
              "      <td>0.096221</td>\n",
              "      <td>0.457483</td>\n",
              "      <td>0.586798</td>\n",
              "      <td>-0.069284</td>\n",
              "      <td>1.000000</td>\n",
              "      <td>0.351482</td>\n",
              "      <td>0.194751</td>\n",
              "      <td>0.208774</td>\n",
              "      <td>0.154487</td>\n",
              "      <td>-0.521304</td>\n",
              "      <td>-0.392778</td>\n",
              "      <td>-0.226294</td>\n",
              "      <td>-0.261228</td>\n",
              "      <td>-0.188185</td>\n",
              "      <td>-0.193911</td>\n",
              "      <td>0.556079</td>\n",
              "      <td>0.569842</td>\n",
              "      <td>-0.191368</td>\n",
              "      <td>-0.122146</td>\n",
              "    </tr>\n",
              "    <tr>\n",
              "      <th>Sunshine</th>\n",
              "      <td>0.078911</td>\n",
              "      <td>0.053477</td>\n",
              "      <td>0.469859</td>\n",
              "      <td>-0.210261</td>\n",
              "      <td>0.351482</td>\n",
              "      <td>1.000000</td>\n",
              "      <td>-0.051283</td>\n",
              "      <td>-0.001514</td>\n",
              "      <td>0.055941</td>\n",
              "      <td>-0.471021</td>\n",
              "      <td>-0.634892</td>\n",
              "      <td>0.078309</td>\n",
              "      <td>0.010106</td>\n",
              "      <td>-0.693561</td>\n",
              "      <td>-0.708928</td>\n",
              "      <td>0.286368</td>\n",
              "      <td>0.492766</td>\n",
              "      <td>-0.314345</td>\n",
              "      <td>-0.437883</td>\n",
              "    </tr>\n",
              "    <tr>\n",
              "      <th>WindGustSpeed</th>\n",
              "      <td>0.047488</td>\n",
              "      <td>0.163349</td>\n",
              "      <td>0.013580</td>\n",
              "      <td>0.160382</td>\n",
              "      <td>0.194751</td>\n",
              "      <td>-0.051283</td>\n",
              "      <td>1.000000</td>\n",
              "      <td>0.633542</td>\n",
              "      <td>0.715518</td>\n",
              "      <td>-0.214060</td>\n",
              "      <td>0.004057</td>\n",
              "      <td>-0.485376</td>\n",
              "      <td>-0.434426</td>\n",
              "      <td>0.086327</td>\n",
              "      <td>0.125622</td>\n",
              "      <td>0.123985</td>\n",
              "      <td>-0.024427</td>\n",
              "      <td>0.188300</td>\n",
              "      <td>0.258618</td>\n",
              "    </tr>\n",
              "    <tr>\n",
              "      <th>WindSpeed9am</th>\n",
              "      <td>0.062482</td>\n",
              "      <td>0.193476</td>\n",
              "      <td>0.003229</td>\n",
              "      <td>0.102262</td>\n",
              "      <td>0.208774</td>\n",
              "      <td>-0.001514</td>\n",
              "      <td>0.633542</td>\n",
              "      <td>1.000000</td>\n",
              "      <td>0.541097</td>\n",
              "      <td>-0.289202</td>\n",
              "      <td>-0.019900</td>\n",
              "      <td>-0.266217</td>\n",
              "      <td>-0.212422</td>\n",
              "      <td>0.035081</td>\n",
              "      <td>0.066148</td>\n",
              "      <td>0.141875</td>\n",
              "      <td>-0.008063</td>\n",
              "      <td>0.121898</td>\n",
              "      <td>0.118477</td>\n",
              "    </tr>\n",
              "    <tr>\n",
              "      <th>WindSpeed3pm</th>\n",
              "      <td>0.040819</td>\n",
              "      <td>0.183079</td>\n",
              "      <td>0.054409</td>\n",
              "      <td>0.068231</td>\n",
              "      <td>0.154487</td>\n",
              "      <td>0.055941</td>\n",
              "      <td>0.715518</td>\n",
              "      <td>0.541097</td>\n",
              "      <td>1.000000</td>\n",
              "      <td>-0.166434</td>\n",
              "      <td>-0.003281</td>\n",
              "      <td>-0.327326</td>\n",
              "      <td>-0.289712</td>\n",
              "      <td>0.048956</td>\n",
              "      <td>0.032267</td>\n",
              "      <td>0.169477</td>\n",
              "      <td>0.030884</td>\n",
              "      <td>0.097368</td>\n",
              "      <td>0.109116</td>\n",
              "    </tr>\n",
              "    <tr>\n",
              "      <th>Humidity9am</th>\n",
              "      <td>-0.129400</td>\n",
              "      <td>-0.232420</td>\n",
              "      <td>-0.485241</td>\n",
              "      <td>0.217506</td>\n",
              "      <td>-0.521304</td>\n",
              "      <td>-0.471021</td>\n",
              "      <td>-0.214060</td>\n",
              "      <td>-0.289202</td>\n",
              "      <td>-0.166434</td>\n",
              "      <td>1.000000</td>\n",
              "      <td>0.644709</td>\n",
              "      <td>0.117477</td>\n",
              "      <td>0.167571</td>\n",
              "      <td>0.439629</td>\n",
              "      <td>0.349397</td>\n",
              "      <td>-0.472335</td>\n",
              "      <td>-0.478217</td>\n",
              "      <td>0.332583</td>\n",
              "      <td>0.244048</td>\n",
              "    </tr>\n",
              "    <tr>\n",
              "      <th>Humidity3pm</th>\n",
              "      <td>-0.085483</td>\n",
              "      <td>0.021193</td>\n",
              "      <td>-0.504320</td>\n",
              "      <td>0.258283</td>\n",
              "      <td>-0.392778</td>\n",
              "      <td>-0.634892</td>\n",
              "      <td>0.004057</td>\n",
              "      <td>-0.019900</td>\n",
              "      <td>-0.003281</td>\n",
              "      <td>0.644709</td>\n",
              "      <td>1.000000</td>\n",
              "      <td>-0.063572</td>\n",
              "      <td>0.019297</td>\n",
              "      <td>0.518187</td>\n",
              "      <td>0.536139</td>\n",
              "      <td>-0.218612</td>\n",
              "      <td>-0.556450</td>\n",
              "      <td>0.375488</td>\n",
              "      <td>0.458234</td>\n",
              "    </tr>\n",
              "    <tr>\n",
              "      <th>Pressure9am</th>\n",
              "      <td>-0.104157</td>\n",
              "      <td>-0.372295</td>\n",
              "      <td>-0.224734</td>\n",
              "      <td>-0.178761</td>\n",
              "      <td>-0.226294</td>\n",
              "      <td>0.078309</td>\n",
              "      <td>-0.485376</td>\n",
              "      <td>-0.266217</td>\n",
              "      <td>-0.327326</td>\n",
              "      <td>0.117477</td>\n",
              "      <td>-0.063572</td>\n",
              "      <td>1.000000</td>\n",
              "      <td>0.959218</td>\n",
              "      <td>-0.135572</td>\n",
              "      <td>-0.150569</td>\n",
              "      <td>-0.331612</td>\n",
              "      <td>-0.175755</td>\n",
              "      <td>-0.216675</td>\n",
              "      <td>-0.273063</td>\n",
              "    </tr>\n",
              "    <tr>\n",
              "      <th>Pressure3pm</th>\n",
              "      <td>-0.108251</td>\n",
              "      <td>-0.385832</td>\n",
              "      <td>-0.331614</td>\n",
              "      <td>-0.125762</td>\n",
              "      <td>-0.261228</td>\n",
              "      <td>0.010106</td>\n",
              "      <td>-0.434426</td>\n",
              "      <td>-0.212422</td>\n",
              "      <td>-0.289712</td>\n",
              "      <td>0.167571</td>\n",
              "      <td>0.019297</td>\n",
              "      <td>0.959218</td>\n",
              "      <td>1.000000</td>\n",
              "      <td>-0.065816</td>\n",
              "      <td>-0.082215</td>\n",
              "      <td>-0.386751</td>\n",
              "      <td>-0.289701</td>\n",
              "      <td>-0.121562</td>\n",
              "      <td>-0.247978</td>\n",
              "    </tr>\n",
              "    <tr>\n",
              "      <th>Cloud9am</th>\n",
              "      <td>-0.073085</td>\n",
              "      <td>0.071455</td>\n",
              "      <td>-0.304386</td>\n",
              "      <td>0.202290</td>\n",
              "      <td>-0.188185</td>\n",
              "      <td>-0.693561</td>\n",
              "      <td>0.086327</td>\n",
              "      <td>0.035081</td>\n",
              "      <td>0.048956</td>\n",
              "      <td>0.439629</td>\n",
              "      <td>0.518187</td>\n",
              "      <td>-0.135572</td>\n",
              "      <td>-0.065816</td>\n",
              "      <td>1.000000</td>\n",
              "      <td>0.609241</td>\n",
              "      <td>-0.151065</td>\n",
              "      <td>-0.315585</td>\n",
              "      <td>0.306448</td>\n",
              "      <td>0.322673</td>\n",
              "    </tr>\n",
              "    <tr>\n",
              "      <th>Cloud3pm</th>\n",
              "      <td>-0.066481</td>\n",
              "      <td>0.006876</td>\n",
              "      <td>-0.305659</td>\n",
              "      <td>0.162473</td>\n",
              "      <td>-0.193911</td>\n",
              "      <td>-0.708928</td>\n",
              "      <td>0.125622</td>\n",
              "      <td>0.066148</td>\n",
              "      <td>0.032267</td>\n",
              "      <td>0.349397</td>\n",
              "      <td>0.536139</td>\n",
              "      <td>-0.150569</td>\n",
              "      <td>-0.082215</td>\n",
              "      <td>0.609241</td>\n",
              "      <td>1.000000</td>\n",
              "      <td>-0.152008</td>\n",
              "      <td>-0.347408</td>\n",
              "      <td>0.262506</td>\n",
              "      <td>0.381305</td>\n",
              "    </tr>\n",
              "    <tr>\n",
              "      <th>Temp9am</th>\n",
              "      <td>0.139226</td>\n",
              "      <td>0.892621</td>\n",
              "      <td>0.881130</td>\n",
              "      <td>-0.007844</td>\n",
              "      <td>0.556079</td>\n",
              "      <td>0.286368</td>\n",
              "      <td>0.123985</td>\n",
              "      <td>0.141875</td>\n",
              "      <td>0.169477</td>\n",
              "      <td>-0.472335</td>\n",
              "      <td>-0.218612</td>\n",
              "      <td>-0.331612</td>\n",
              "      <td>-0.386751</td>\n",
              "      <td>-0.151065</td>\n",
              "      <td>-0.152008</td>\n",
              "      <td>1.000000</td>\n",
              "      <td>0.850474</td>\n",
              "      <td>-0.100329</td>\n",
              "      <td>-0.034741</td>\n",
              "    </tr>\n",
              "    <tr>\n",
              "      <th>Temp3pm</th>\n",
              "      <td>0.120342</td>\n",
              "      <td>0.682041</td>\n",
              "      <td>0.984609</td>\n",
              "      <td>-0.108617</td>\n",
              "      <td>0.569842</td>\n",
              "      <td>0.492766</td>\n",
              "      <td>-0.024427</td>\n",
              "      <td>-0.008063</td>\n",
              "      <td>0.030884</td>\n",
              "      <td>-0.478217</td>\n",
              "      <td>-0.556450</td>\n",
              "      <td>-0.175755</td>\n",
              "      <td>-0.289701</td>\n",
              "      <td>-0.315585</td>\n",
              "      <td>-0.347408</td>\n",
              "      <td>0.850474</td>\n",
              "      <td>1.000000</td>\n",
              "      <td>-0.253352</td>\n",
              "      <td>-0.211749</td>\n",
              "    </tr>\n",
              "    <tr>\n",
              "      <th>RainToday</th>\n",
              "      <td>-0.003840</td>\n",
              "      <td>0.065077</td>\n",
              "      <td>-0.247060</td>\n",
              "      <td>0.527639</td>\n",
              "      <td>-0.191368</td>\n",
              "      <td>-0.314345</td>\n",
              "      <td>0.188300</td>\n",
              "      <td>0.121898</td>\n",
              "      <td>0.097368</td>\n",
              "      <td>0.332583</td>\n",
              "      <td>0.375488</td>\n",
              "      <td>-0.216675</td>\n",
              "      <td>-0.121562</td>\n",
              "      <td>0.306448</td>\n",
              "      <td>0.262506</td>\n",
              "      <td>-0.100329</td>\n",
              "      <td>-0.253352</td>\n",
              "      <td>1.000000</td>\n",
              "      <td>0.314222</td>\n",
              "    </tr>\n",
              "    <tr>\n",
              "      <th>RainTomorrow</th>\n",
              "      <td>-0.002691</td>\n",
              "      <td>0.084001</td>\n",
              "      <td>-0.177480</td>\n",
              "      <td>0.244867</td>\n",
              "      <td>-0.122146</td>\n",
              "      <td>-0.437883</td>\n",
              "      <td>0.258618</td>\n",
              "      <td>0.118477</td>\n",
              "      <td>0.109116</td>\n",
              "      <td>0.244048</td>\n",
              "      <td>0.458234</td>\n",
              "      <td>-0.273063</td>\n",
              "      <td>-0.247978</td>\n",
              "      <td>0.322673</td>\n",
              "      <td>0.381305</td>\n",
              "      <td>-0.034741</td>\n",
              "      <td>-0.211749</td>\n",
              "      <td>0.314222</td>\n",
              "      <td>1.000000</td>\n",
              "    </tr>\n",
              "  </tbody>\n",
              "</table>\n",
              "</div>\n",
              "    <div class=\"colab-df-buttons\">\n",
              "\n",
              "  <div class=\"colab-df-container\">\n",
              "    <button class=\"colab-df-convert\" onclick=\"convertToInteractive('df-394a2770-6b8b-439f-91ac-46d1bc4bb578')\"\n",
              "            title=\"Convert this dataframe to an interactive table.\"\n",
              "            style=\"display:none;\">\n",
              "\n",
              "  <svg xmlns=\"http://www.w3.org/2000/svg\" height=\"24px\" viewBox=\"0 -960 960 960\">\n",
              "    <path d=\"M120-120v-720h720v720H120Zm60-500h600v-160H180v160Zm220 220h160v-160H400v160Zm0 220h160v-160H400v160ZM180-400h160v-160H180v160Zm440 0h160v-160H620v160ZM180-180h160v-160H180v160Zm440 0h160v-160H620v160Z\"/>\n",
              "  </svg>\n",
              "    </button>\n",
              "\n",
              "  <style>\n",
              "    .colab-df-container {\n",
              "      display:flex;\n",
              "      gap: 12px;\n",
              "    }\n",
              "\n",
              "    .colab-df-convert {\n",
              "      background-color: #E8F0FE;\n",
              "      border: none;\n",
              "      border-radius: 50%;\n",
              "      cursor: pointer;\n",
              "      display: none;\n",
              "      fill: #1967D2;\n",
              "      height: 32px;\n",
              "      padding: 0 0 0 0;\n",
              "      width: 32px;\n",
              "    }\n",
              "\n",
              "    .colab-df-convert:hover {\n",
              "      background-color: #E2EBFA;\n",
              "      box-shadow: 0px 1px 2px rgba(60, 64, 67, 0.3), 0px 1px 3px 1px rgba(60, 64, 67, 0.15);\n",
              "      fill: #174EA6;\n",
              "    }\n",
              "\n",
              "    .colab-df-buttons div {\n",
              "      margin-bottom: 4px;\n",
              "    }\n",
              "\n",
              "    [theme=dark] .colab-df-convert {\n",
              "      background-color: #3B4455;\n",
              "      fill: #D2E3FC;\n",
              "    }\n",
              "\n",
              "    [theme=dark] .colab-df-convert:hover {\n",
              "      background-color: #434B5C;\n",
              "      box-shadow: 0px 1px 3px 1px rgba(0, 0, 0, 0.15);\n",
              "      filter: drop-shadow(0px 1px 2px rgba(0, 0, 0, 0.3));\n",
              "      fill: #FFFFFF;\n",
              "    }\n",
              "  </style>\n",
              "\n",
              "    <script>\n",
              "      const buttonEl =\n",
              "        document.querySelector('#df-394a2770-6b8b-439f-91ac-46d1bc4bb578 button.colab-df-convert');\n",
              "      buttonEl.style.display =\n",
              "        google.colab.kernel.accessAllowed ? 'block' : 'none';\n",
              "\n",
              "      async function convertToInteractive(key) {\n",
              "        const element = document.querySelector('#df-394a2770-6b8b-439f-91ac-46d1bc4bb578');\n",
              "        const dataTable =\n",
              "          await google.colab.kernel.invokeFunction('convertToInteractive',\n",
              "                                                    [key], {});\n",
              "        if (!dataTable) return;\n",
              "\n",
              "        const docLinkHtml = 'Like what you see? Visit the ' +\n",
              "          '<a target=\"_blank\" href=https://colab.research.google.com/notebooks/data_table.ipynb>data table notebook</a>'\n",
              "          + ' to learn more about interactive tables.';\n",
              "        element.innerHTML = '';\n",
              "        dataTable['output_type'] = 'display_data';\n",
              "        await google.colab.output.renderOutput(dataTable, element);\n",
              "        const docLink = document.createElement('div');\n",
              "        docLink.innerHTML = docLinkHtml;\n",
              "        element.appendChild(docLink);\n",
              "      }\n",
              "    </script>\n",
              "  </div>\n",
              "\n",
              "\n",
              "<div id=\"df-5c9c9738-10ff-4b89-ad07-8a2c0b317cc1\">\n",
              "  <button class=\"colab-df-quickchart\" onclick=\"quickchart('df-5c9c9738-10ff-4b89-ad07-8a2c0b317cc1')\"\n",
              "            title=\"Suggest charts\"\n",
              "            style=\"display:none;\">\n",
              "\n",
              "<svg xmlns=\"http://www.w3.org/2000/svg\" height=\"24px\"viewBox=\"0 0 24 24\"\n",
              "     width=\"24px\">\n",
              "    <g>\n",
              "        <path d=\"M19 3H5c-1.1 0-2 .9-2 2v14c0 1.1.9 2 2 2h14c1.1 0 2-.9 2-2V5c0-1.1-.9-2-2-2zM9 17H7v-7h2v7zm4 0h-2V7h2v10zm4 0h-2v-4h2v4z\"/>\n",
              "    </g>\n",
              "</svg>\n",
              "  </button>\n",
              "\n",
              "<style>\n",
              "  .colab-df-quickchart {\n",
              "      --bg-color: #E8F0FE;\n",
              "      --fill-color: #1967D2;\n",
              "      --hover-bg-color: #E2EBFA;\n",
              "      --hover-fill-color: #174EA6;\n",
              "      --disabled-fill-color: #AAA;\n",
              "      --disabled-bg-color: #DDD;\n",
              "  }\n",
              "\n",
              "  [theme=dark] .colab-df-quickchart {\n",
              "      --bg-color: #3B4455;\n",
              "      --fill-color: #D2E3FC;\n",
              "      --hover-bg-color: #434B5C;\n",
              "      --hover-fill-color: #FFFFFF;\n",
              "      --disabled-bg-color: #3B4455;\n",
              "      --disabled-fill-color: #666;\n",
              "  }\n",
              "\n",
              "  .colab-df-quickchart {\n",
              "    background-color: var(--bg-color);\n",
              "    border: none;\n",
              "    border-radius: 50%;\n",
              "    cursor: pointer;\n",
              "    display: none;\n",
              "    fill: var(--fill-color);\n",
              "    height: 32px;\n",
              "    padding: 0;\n",
              "    width: 32px;\n",
              "  }\n",
              "\n",
              "  .colab-df-quickchart:hover {\n",
              "    background-color: var(--hover-bg-color);\n",
              "    box-shadow: 0 1px 2px rgba(60, 64, 67, 0.3), 0 1px 3px 1px rgba(60, 64, 67, 0.15);\n",
              "    fill: var(--button-hover-fill-color);\n",
              "  }\n",
              "\n",
              "  .colab-df-quickchart-complete:disabled,\n",
              "  .colab-df-quickchart-complete:disabled:hover {\n",
              "    background-color: var(--disabled-bg-color);\n",
              "    fill: var(--disabled-fill-color);\n",
              "    box-shadow: none;\n",
              "  }\n",
              "\n",
              "  .colab-df-spinner {\n",
              "    border: 2px solid var(--fill-color);\n",
              "    border-color: transparent;\n",
              "    border-bottom-color: var(--fill-color);\n",
              "    animation:\n",
              "      spin 1s steps(1) infinite;\n",
              "  }\n",
              "\n",
              "  @keyframes spin {\n",
              "    0% {\n",
              "      border-color: transparent;\n",
              "      border-bottom-color: var(--fill-color);\n",
              "      border-left-color: var(--fill-color);\n",
              "    }\n",
              "    20% {\n",
              "      border-color: transparent;\n",
              "      border-left-color: var(--fill-color);\n",
              "      border-top-color: var(--fill-color);\n",
              "    }\n",
              "    30% {\n",
              "      border-color: transparent;\n",
              "      border-left-color: var(--fill-color);\n",
              "      border-top-color: var(--fill-color);\n",
              "      border-right-color: var(--fill-color);\n",
              "    }\n",
              "    40% {\n",
              "      border-color: transparent;\n",
              "      border-right-color: var(--fill-color);\n",
              "      border-top-color: var(--fill-color);\n",
              "    }\n",
              "    60% {\n",
              "      border-color: transparent;\n",
              "      border-right-color: var(--fill-color);\n",
              "    }\n",
              "    80% {\n",
              "      border-color: transparent;\n",
              "      border-right-color: var(--fill-color);\n",
              "      border-bottom-color: var(--fill-color);\n",
              "    }\n",
              "    90% {\n",
              "      border-color: transparent;\n",
              "      border-bottom-color: var(--fill-color);\n",
              "    }\n",
              "  }\n",
              "</style>\n",
              "\n",
              "  <script>\n",
              "    async function quickchart(key) {\n",
              "      const quickchartButtonEl =\n",
              "        document.querySelector('#' + key + ' button');\n",
              "      quickchartButtonEl.disabled = true;  // To prevent multiple clicks.\n",
              "      quickchartButtonEl.classList.add('colab-df-spinner');\n",
              "      try {\n",
              "        const charts = await google.colab.kernel.invokeFunction(\n",
              "            'suggestCharts', [key], {});\n",
              "      } catch (error) {\n",
              "        console.error('Error during call to suggestCharts:', error);\n",
              "      }\n",
              "      quickchartButtonEl.classList.remove('colab-df-spinner');\n",
              "      quickchartButtonEl.classList.add('colab-df-quickchart-complete');\n",
              "    }\n",
              "    (() => {\n",
              "      let quickchartButtonEl =\n",
              "        document.querySelector('#df-5c9c9738-10ff-4b89-ad07-8a2c0b317cc1 button');\n",
              "      quickchartButtonEl.style.display =\n",
              "        google.colab.kernel.accessAllowed ? 'block' : 'none';\n",
              "    })();\n",
              "  </script>\n",
              "</div>\n",
              "    </div>\n",
              "  </div>\n"
            ]
          },
          "metadata": {},
          "execution_count": 9
        }
      ]
    },
    {
      "cell_type": "markdown",
      "source": [
        "### 3. Προεπεξεργασία συνόλου δεδομένων\n",
        "💡`Χρησιμοποιήστε το Column Transformer για τη δημιουργία και την εφαρμογή χωριστών μετασχηματιστών για αριθμητικά και κατηγορικά δεδομένα.`\n",
        "\n",
        "\n"
      ],
      "metadata": {
        "id": "EbK3in0hNMeI"
      }
    },
    {
      "cell_type": "markdown",
      "source": [
        "3.α.  Θα χρησιμοποιήσετε όλα τα χαρακτηριστικά του συνόλου δεδομένων για την εκπαίδευση των ταξινομητών ή θα επιλέξετε κάποια από αυτά;  Θα κάνετε κάποια συνένωση κάποιων χαρακτηριστικών για δημιουργία νέων χαρακτηριστικών για το μοντέλο σας;\n"
      ],
      "metadata": {
        "id": "mKsQVCnLQZ30"
      }
    },
    {
      "cell_type": "code",
      "source": [
        "import seaborn as sn\n",
        "import matplotlib.pyplot as plt\n",
        "\n",
        "corr_matrix = train_val.corr()\n",
        "fig, ax = plt.subplots(figsize=(23,23))         # Sample figsize in inches\n",
        "sn.heatmap(corr_matrix, annot=True,linewidths=.5, ax=ax)\n",
        "\n",
        "train_val.drop(['id','Date','WindGustDir','WindDir9am','WindDir3pm'], axis=1, inplace=True)"
      ],
      "metadata": {
        "id": "Eqb25dcKNMvg",
        "colab": {
          "base_uri": "https://localhost:8080/",
          "height": 1000
        },
        "outputId": "f61405dd-0fe1-4e18-94fd-eeae818c764d"
      },
      "execution_count": 10,
      "outputs": [
        {
          "output_type": "stream",
          "name": "stderr",
          "text": [
            "<ipython-input-10-8cdca5d8bd1f>:4: FutureWarning: The default value of numeric_only in DataFrame.corr is deprecated. In a future version, it will default to False. Select only valid columns or specify the value of numeric_only to silence this warning.\n",
            "  corr_matrix = train_val.corr()\n"
          ]
        },
        {
          "output_type": "display_data",
          "data": {
            "text/plain": [
              "<Figure size 2300x2300 with 2 Axes>"
            ],
            "image/png": "[encoded data removed]"
          },
          "metadata": {}
        }
      ]
    },
    {
      "cell_type": "markdown",
      "source": [
        "3.β. Υπάρχουν απουσιάζουσες τιμές; Γράψτε κατάλληλο κώδικα ώστε να χειριστείτε αυτές τις τιμές."
      ],
      "metadata": {
        "id": "GPCa3SklNmBe"
      }
    },
    {
      "cell_type": "code",
      "source": [
        "from sklearn.compose import ColumnTransformer\n",
        "from sklearn.impute import SimpleImputer\n",
        "from sklearn.preprocessing import OneHotEncoder\n",
        "from sklearn.preprocessing import MinMaxScaler\n",
        "from sklearn.preprocessing import StandardScaler\n",
        "from sklearn.pipeline import Pipeline\n",
        "from sklearn.feature_selection import SelectKBest,chi2\n",
        "\n",
        "# handle numeric features\n",
        "numeric_features = ['MinTemp','MaxTemp','Rainfall','Evaporation','Sunshine','WindGustSpeed','WindSpeed9am','WindSpeed3pm','Humidity9am','Humidity3pm','Pressure9am','Pressure3pm','Cloud9am','Cloud3pm','Temp9am','Temp3pm','RainToday']\n",
        "numeric_transformer = Pipeline(steps=[\n",
        "    ('imputer', SimpleImputer(strategy='mean')),\n",
        "    ('scaler', StandardScaler())])\n",
        "\n",
        "# handle categorical features\n",
        "categorical_features = ['Location']\n",
        "categorical_transformer = Pipeline(steps=[\n",
        "    ('imputer', SimpleImputer(strategy='most_frequent')),\n",
        "    ('scaler', OneHotEncoder(handle_unknown='ignore', sparse = False))])\n",
        "train_val.info()\n"
      ],
      "metadata": {
        "id": "1e_E53VJN8a2",
        "colab": {
          "base_uri": "https://localhost:8080/"
        },
        "outputId": "fc626179-7217-4bb7-e78b-ba1eaceec5db"
      },
      "execution_count": 8,
      "outputs": [
        {
          "output_type": "stream",
          "name": "stdout",
          "text": [
            "<class 'pandas.core.frame.DataFrame'>\n",
            "RangeIndex: 48423 entries, 0 to 48422\n",
            "Data columns (total 24 columns):\n",
            " #   Column         Non-Null Count  Dtype  \n",
            "---  ------         --------------  -----  \n",
            " 0   id             48423 non-null  int64  \n",
            " 1   Date           48423 non-null  object \n",
            " 2   Location       48423 non-null  object \n",
            " 3   MinTemp        48263 non-null  float64\n",
            " 4   MaxTemp        48322 non-null  float64\n",
            " 5   Rainfall       48423 non-null  float64\n",
            " 6   Evaporation    28039 non-null  float64\n",
            " 7   Sunshine       25426 non-null  float64\n",
            " 8   WindGustDir    45302 non-null  object \n",
            " 9   WindGustSpeed  45330 non-null  float64\n",
            " 10  WindDir9am     44602 non-null  object \n",
            " 11  WindDir3pm     47095 non-null  object \n",
            " 12  WindSpeed9am   48066 non-null  float64\n",
            " 13  WindSpeed3pm   47566 non-null  float64\n",
            " 14  Humidity9am    47865 non-null  float64\n",
            " 15  Humidity3pm    47164 non-null  float64\n",
            " 16  Pressure9am    43643 non-null  float64\n",
            " 17  Pressure3pm    43634 non-null  float64\n",
            " 18  Cloud9am       30533 non-null  float64\n",
            " 19  Cloud3pm       29442 non-null  float64\n",
            " 20  Temp9am        48197 non-null  float64\n",
            " 21  Temp3pm        47510 non-null  float64\n",
            " 22  RainToday      48423 non-null  float64\n",
            " 23  RainTomorrow   48423 non-null  float64\n",
            "dtypes: float64(18), int64(1), object(5)\n",
            "memory usage: 8.9+ MB\n"
          ]
        }
      ]
    },
    {
      "cell_type": "markdown",
      "source": [
        "3.γ. Γράψτε κώδικα για την κατάλληλη μετατροπή των κατηγορικών μεταβλητών ώστε να μπορούν να τους διαχειριστούν οι ταξινομητές που θα χρησιμοποιήσετε."
      ],
      "metadata": {
        "id": "ZRq1eHYfNoEO"
      }
    },
    {
      "cell_type": "code",
      "source": [
        "# ο κώδικας φαίνεται στο 3β μετά το σχόλιο # handle numeric features"
      ],
      "metadata": {
        "id": "NxRunryNQiXa"
      },
      "execution_count": 12,
      "outputs": []
    },
    {
      "cell_type": "markdown",
      "source": [
        "3.δ. Γράψτε κώδικα για την κλιμάκωση των χαρακτηριστικών, αν την θεωρείτε απαραίτητη"
      ],
      "metadata": {
        "id": "KWsb4KQmQiFc"
      }
    },
    {
      "cell_type": "code",
      "source": [
        "# ο κώδικας φαίνεται στο 3β"
      ],
      "metadata": {
        "id": "EXkL_EFfNom-"
      },
      "execution_count": 13,
      "outputs": []
    },
    {
      "cell_type": "markdown",
      "source": [
        "3.ε. Εκτελέστε όλα τα προηγούμενα βήμα προεκπαίδευσης (χρήση μετασχηματιστών) ώστε να είναι \"καθαρό\" το αρχικό σύνολο για να χρησιμοποιηθεί για την εκπαίδευση των ταξινομητών."
      ],
      "metadata": {
        "id": "_S2tynpfhaOu"
      }
    },
    {
      "cell_type": "code",
      "source": [
        "preprocessor = ColumnTransformer(\n",
        "    transformers=[\n",
        "        ('num', numeric_transformer, numeric_features),\n",
        "        ('cat', categorical_transformer, categorical_features)])"
      ],
      "metadata": {
        "id": "_LdteolxhZfi"
      },
      "execution_count": 9,
      "outputs": []
    },
    {
      "cell_type": "markdown",
      "source": [
        "3.στ. Αφού έχετε \"καθαρίσει\" το αρχικό σύνολο εκπαίδευσης, γράψτε τον κατάλληλο κώδικα ώστε από το αρχικό σύνολο εκπαίδευσης να δημιουργήσετε τα σύνολα Χ και y.\n",
        "\n",
        "💡 `Η στήλη 'RainTomorrow' είναι η τιμή που θέλουμε να προβλέψει ο ταξινομητής μας.`\n",
        "\n"
      ],
      "metadata": {
        "id": "OeD8amKKLJFr"
      }
    },
    {
      "cell_type": "code",
      "source": [
        "X = train_val[['Location','MinTemp','MaxTemp','Rainfall','Evaporation','Sunshine','WindGustSpeed','WindSpeed9am','WindSpeed3pm','Humidity9am','Humidity3pm','Pressure9am','Pressure3pm','Cloud9am','Cloud3pm','Temp9am','Temp3pm','RainToday']]\n",
        "yy = train_val[['RainTomorrow']]\n",
        "y = yy.to_numpy().flatten()\n"
      ],
      "metadata": {
        "id": "FysfIb93LJxS"
      },
      "execution_count": 10,
      "outputs": []
    },
    {
      "cell_type": "markdown",
      "source": [
        "3.ζ. Διαχωρίστε το σύνολο δεδομένων σε σύνολο εκπαίδευσης (train set) και σε σύνολο επικύρωσης (validation set) (ο διαχωρισμός να είναι train set 70% και validation set 30%).\n"
      ],
      "metadata": {
        "id": "8oU_se4UT0JF"
      }
    },
    {
      "cell_type": "code",
      "source": [
        "from sklearn.model_selection import train_test_split\n",
        "\n",
        "RAND_STATE = 42\n",
        "\n",
        "X_train, X_test, y_train, y_test = train_test_split(X, y, test_size=0.3, random_state=RAND_STATE)"
      ],
      "metadata": {
        "id": "wcwB_TK1ixvl"
      },
      "execution_count": 11,
      "outputs": []
    },
    {
      "cell_type": "markdown",
      "source": [
        "### 4. Εκπαίδευση μοντέλου με default τιμές στις παραμέτρους των ταξινομητών\n",
        "\n",
        "Θα εκπαιδεύσουμε τους ακόλουθους ταξινομητές με το σύνολο εκπαίδευσης των δεδομένων μας:\n",
        "1. Naive Bayes\n",
        "2. KNeighborsClassifier\n",
        "3. LogisticRegression\n",
        "4. MLP με ένα κρυφό επίπεδο\n",
        "5. SVC\n",
        "6. Decision Tree\n",
        "7. Random Forest\n"
      ],
      "metadata": {
        "id": "xhITyhMuSslH"
      }
    },
    {
      "cell_type": "markdown",
      "source": [
        "1. Naive Bayes"
      ],
      "metadata": {
        "id": "5-45mU6qYatm"
      }
    },
    {
      "cell_type": "code",
      "source": [
        "from sklearn.naive_bayes import GaussianNB\n",
        "from sklearn.metrics import accuracy_score\n",
        "from sklearn.metrics import f1_score\n",
        "\n",
        "classifier = GaussianNB()\n",
        "# Set the Pipeline\n",
        "model = Pipeline(steps=[('preprocessor', preprocessor),\n",
        "                        ('classifier', classifier)])\n",
        "\n",
        "# Fit the pipeline\n",
        "model.fit(X_train, y_train)\n",
        "\n",
        "y_pred = model.predict(X_test)\n",
        "\n",
        "# Evaluate\n",
        "print(f'Model score: {model.score(X_test, y_test)}')\n",
        "\n",
        "from sklearn.metrics import classification_report\n",
        "# compute the classification report\n",
        "print(classification_report(y_test, y_pred))\n",
        "agnb = f1_score(y_test, y_pred)\n",
        "agnb"
      ],
      "metadata": {
        "id": "-r3kEVgkU0OF",
        "colab": {
          "base_uri": "https://localhost:8080/"
        },
        "outputId": "cba41799-021d-4e75-f653-7bc977ff51bc"
      },
      "execution_count": 17,
      "outputs": [
        {
          "output_type": "stream",
          "name": "stderr",
          "text": [
            "/usr/local/lib/python3.10/dist-packages/sklearn/preprocessing/_encoders.py:868: FutureWarning: `sparse` was renamed to `sparse_output` in version 1.2 and will be removed in 1.4. `sparse_output` is ignored unless you leave `sparse` to its default value.\n",
            "  warnings.warn(\n"
          ]
        },
        {
          "output_type": "stream",
          "name": "stdout",
          "text": [
            "Model score: 0.6566393611895092\n",
            "              precision    recall  f1-score   support\n",
            "\n",
            "         0.0       0.89      0.63      0.74     11184\n",
            "         1.0       0.38      0.74      0.50      3343\n",
            "\n",
            "    accuracy                           0.66     14527\n",
            "   macro avg       0.63      0.69      0.62     14527\n",
            "weighted avg       0.77      0.66      0.68     14527\n",
            "\n"
          ]
        },
        {
          "output_type": "execute_result",
          "data": {
            "text/plain": [
              "0.49959871589085075"
            ]
          },
          "metadata": {},
          "execution_count": 17
        }
      ]
    },
    {
      "cell_type": "code",
      "source": [
        "from sklearn.metrics import accuracy_score\n",
        "anb = f1_score(y_test, y_pred)\n",
        "anb"
      ],
      "metadata": {
        "colab": {
          "base_uri": "https://localhost:8080/"
        },
        "id": "IJ8WgIXi2x13",
        "outputId": "33e8ed91-faf8-47c9-9f87-b583d20927e9"
      },
      "execution_count": 18,
      "outputs": [
        {
          "output_type": "execute_result",
          "data": {
            "text/plain": [
              "0.49959871589085075"
            ]
          },
          "metadata": {},
          "execution_count": 18
        }
      ]
    },
    {
      "cell_type": "markdown",
      "source": [
        "2. KNeighborsClassifier"
      ],
      "metadata": {
        "id": "yWtkAsUbJxDL"
      }
    },
    {
      "cell_type": "code",
      "source": [
        "from sklearn.neighbors import KNeighborsClassifier\n",
        "# Define the classifier\n",
        "\n",
        "classifier = KNeighborsClassifier()\n",
        "# Set the Pipeline\n",
        "model = Pipeline(steps=[('preprocessor', preprocessor),\n",
        "                        ('classifier', classifier)])\n",
        "\n",
        "# Fit the pipeline\n",
        "model.fit(X_train, y_train)\n",
        "\n",
        "# Predict\n",
        "y_pred = model.predict(X_test)\n",
        "\n",
        "# Evaluate\n",
        "print(f'Model score: {model.score(X_test, y_test)}')\n",
        "\n",
        "from sklearn.metrics import classification_report\n",
        "# compute the classification report\n",
        "print(classification_report(y_test, y_pred))\n",
        "\n"
      ],
      "metadata": {
        "colab": {
          "base_uri": "https://localhost:8080/"
        },
        "id": "pd3RoViDJxlb",
        "outputId": "6ea8b5ee-ec38-4d99-ed89-fd0e9e006a1b"
      },
      "execution_count": 19,
      "outputs": [
        {
          "output_type": "stream",
          "name": "stderr",
          "text": [
            "/usr/local/lib/python3.10/dist-packages/sklearn/preprocessing/_encoders.py:868: FutureWarning: `sparse` was renamed to `sparse_output` in version 1.2 and will be removed in 1.4. `sparse_output` is ignored unless you leave `sparse` to its default value.\n",
            "  warnings.warn(\n"
          ]
        },
        {
          "output_type": "stream",
          "name": "stdout",
          "text": [
            "Model score: 0.8314861981138569\n",
            "              precision    recall  f1-score   support\n",
            "\n",
            "         0.0       0.86      0.93      0.89     11184\n",
            "         1.0       0.68      0.51      0.58      3343\n",
            "\n",
            "    accuracy                           0.83     14527\n",
            "   macro avg       0.77      0.72      0.74     14527\n",
            "weighted avg       0.82      0.83      0.82     14527\n",
            "\n"
          ]
        }
      ]
    },
    {
      "cell_type": "code",
      "source": [
        "from sklearn.metrics import accuracy_score\n",
        "from sklearn.metrics import f1_score\n",
        "akn = f1_score(y_test, y_pred)\n",
        "akn"
      ],
      "metadata": {
        "id": "32NrFq7xJ3KV",
        "colab": {
          "base_uri": "https://localhost:8080/"
        },
        "outputId": "cc7c6618-e9f7-4fc5-a61d-b62b698ca9b3"
      },
      "execution_count": 20,
      "outputs": [
        {
          "output_type": "execute_result",
          "data": {
            "text/plain": [
              "0.5806783144912642"
            ]
          },
          "metadata": {},
          "execution_count": 20
        }
      ]
    },
    {
      "cell_type": "markdown",
      "source": [
        " 3. LogisticRegression"
      ],
      "metadata": {
        "id": "JTLncAU1J4Du"
      }
    },
    {
      "cell_type": "code",
      "source": [
        "from sklearn.linear_model import LogisticRegression\n",
        "classifier = LogisticRegression()\n",
        "# Set the Pipeline\n",
        "model = Pipeline(steps=[('preprocessor', preprocessor),\n",
        "                        ('classifier', classifier)])\n",
        "\n",
        "# Fit the pipeline\n",
        "model.fit(X_train, y_train)\n",
        "\n",
        "# Predict\n",
        "y_pred = model.predict(X_test)\n",
        "\n",
        "# Evaluate\n",
        "print('Model score: {model.score(X_test, y_test)}')\n",
        "\n",
        "from sklearn.metrics import classification_report\n",
        "# compute the classification report\n",
        "print(classification_report(y_test, y_pred))\n",
        "alr = f1_score(y_test, y_pred)\n",
        "alr"
      ],
      "metadata": {
        "colab": {
          "base_uri": "https://localhost:8080/"
        },
        "id": "FR_5wGrhJ5CK",
        "outputId": "d875d685-c391-439b-c6b8-681c62701ade"
      },
      "execution_count": 21,
      "outputs": [
        {
          "output_type": "stream",
          "name": "stderr",
          "text": [
            "/usr/local/lib/python3.10/dist-packages/sklearn/preprocessing/_encoders.py:868: FutureWarning: `sparse` was renamed to `sparse_output` in version 1.2 and will be removed in 1.4. `sparse_output` is ignored unless you leave `sparse` to its default value.\n",
            "  warnings.warn(\n"
          ]
        },
        {
          "output_type": "stream",
          "name": "stdout",
          "text": [
            "Model score: {model.score(X_test, y_test)}\n",
            "              precision    recall  f1-score   support\n",
            "\n",
            "         0.0       0.87      0.95      0.91     11184\n",
            "         1.0       0.75      0.54      0.63      3343\n",
            "\n",
            "    accuracy                           0.85     14527\n",
            "   macro avg       0.81      0.74      0.77     14527\n",
            "weighted avg       0.84      0.85      0.84     14527\n",
            "\n"
          ]
        },
        {
          "output_type": "stream",
          "name": "stderr",
          "text": [
            "/usr/local/lib/python3.10/dist-packages/sklearn/linear_model/_logistic.py:458: ConvergenceWarning: lbfgs failed to converge (status=1):\n",
            "STOP: TOTAL NO. of ITERATIONS REACHED LIMIT.\n",
            "\n",
            "Increase the number of iterations (max_iter) or scale the data as shown in:\n",
            "    https://scikit-learn.org/stable/modules/preprocessing.html\n",
            "Please also refer to the documentation for alternative solver options:\n",
            "    https://scikit-learn.org/stable/modules/linear_model.html#logistic-regression\n",
            "  n_iter_i = _check_optimize_result(\n"
          ]
        },
        {
          "output_type": "execute_result",
          "data": {
            "text/plain": [
              "0.6274305555555556"
            ]
          },
          "metadata": {},
          "execution_count": 21
        }
      ]
    },
    {
      "cell_type": "markdown",
      "source": [
        "4. MLP με ένα κρυφό επίπεδο"
      ],
      "metadata": {
        "id": "g0AIO80PJ_BU"
      }
    },
    {
      "cell_type": "code",
      "source": [
        "import sklearn.neural_network as skl_nn\n",
        "classifier = skl_nn.MLPClassifier()\n",
        "# Set the Pipeline\n",
        "model = Pipeline(steps=[('preprocessor', preprocessor),\n",
        "                        ('classifier', classifier)])\n",
        "\n",
        "# Fit the pipeline\n",
        "model.fit(X_train, y_train)\n",
        "\n",
        "# Predict\n",
        "y_pred = model.predict(X_test)\n",
        "\n",
        "# Evaluate\n",
        "print('Model score: {model.score(X_test, y_test)}')\n",
        "\n",
        "from sklearn.metrics import classification_report\n",
        "# compute the classification report\n",
        "print(classification_report(y_test, y_pred))\n",
        "amlp = f1_score(y_test, y_pred)"
      ],
      "metadata": {
        "colab": {
          "base_uri": "https://localhost:8080/"
        },
        "id": "wj3sSbj9J_X1",
        "outputId": "9c4efd7b-b7e0-434f-c012-a32bed0daa2f"
      },
      "execution_count": 22,
      "outputs": [
        {
          "output_type": "stream",
          "name": "stderr",
          "text": [
            "/usr/local/lib/python3.10/dist-packages/sklearn/preprocessing/_encoders.py:868: FutureWarning: `sparse` was renamed to `sparse_output` in version 1.2 and will be removed in 1.4. `sparse_output` is ignored unless you leave `sparse` to its default value.\n",
            "  warnings.warn(\n"
          ]
        },
        {
          "output_type": "stream",
          "name": "stdout",
          "text": [
            "Model score: {model.score(X_test, y_test)}\n",
            "              precision    recall  f1-score   support\n",
            "\n",
            "         0.0       0.89      0.92      0.90     11184\n",
            "         1.0       0.69      0.61      0.65      3343\n",
            "\n",
            "    accuracy                           0.85     14527\n",
            "   macro avg       0.79      0.77      0.78     14527\n",
            "weighted avg       0.84      0.85      0.85     14527\n",
            "\n"
          ]
        },
        {
          "output_type": "stream",
          "name": "stderr",
          "text": [
            "/usr/local/lib/python3.10/dist-packages/sklearn/neural_network/_multilayer_perceptron.py:686: ConvergenceWarning: Stochastic Optimizer: Maximum iterations (200) reached and the optimization hasn't converged yet.\n",
            "  warnings.warn(\n"
          ]
        }
      ]
    },
    {
      "cell_type": "markdown",
      "source": [
        "5. SVC"
      ],
      "metadata": {
        "id": "3M_oQV9SKBxB"
      }
    },
    {
      "cell_type": "code",
      "source": [
        "from sklearn.svm import SVC\n",
        "classifier = SVC()\n",
        "# Set the Pipeline\n",
        "model = Pipeline(steps=[('preprocessor', preprocessor),\n",
        "                        ('classifier', classifier)])\n",
        "\n",
        "# Fit the pipeline\n",
        "model.fit(X_train, y_train)\n",
        "\n",
        "# Predict\n",
        "y_pred = model.predict(X_test)\n",
        "\n",
        "# Evaluate\n",
        "print(f'Model score: {model.score(X_test, y_test)}')\n",
        "\n",
        "from sklearn.metrics import classification_report\n",
        "# compute the classification report\n",
        "print(classification_report(y_test, y_pred))\n",
        "\n",
        "#asvc = accuracy_score(y_test, y_pred)\n",
        "asvc = f1_score(y_test, y_pred)"
      ],
      "metadata": {
        "colab": {
          "base_uri": "https://localhost:8080/"
        },
        "id": "1B-HZRDgKCOz",
        "outputId": "804ee419-5ec2-4593-ddef-2b2288a36a66"
      },
      "execution_count": 23,
      "outputs": [
        {
          "output_type": "stream",
          "name": "stderr",
          "text": [
            "/usr/local/lib/python3.10/dist-packages/sklearn/preprocessing/_encoders.py:868: FutureWarning: `sparse` was renamed to `sparse_output` in version 1.2 and will be removed in 1.4. `sparse_output` is ignored unless you leave `sparse` to its default value.\n",
            "  warnings.warn(\n"
          ]
        },
        {
          "output_type": "stream",
          "name": "stdout",
          "text": [
            "Model score: 0.8597783437736628\n",
            "              precision    recall  f1-score   support\n",
            "\n",
            "         0.0       0.87      0.96      0.91     11184\n",
            "         1.0       0.79      0.53      0.63      3343\n",
            "\n",
            "    accuracy                           0.86     14527\n",
            "   macro avg       0.83      0.74      0.77     14527\n",
            "weighted avg       0.85      0.86      0.85     14527\n",
            "\n"
          ]
        }
      ]
    },
    {
      "cell_type": "markdown",
      "source": [
        "6. Decision Tree"
      ],
      "metadata": {
        "id": "8ay9ykpxKUoX"
      }
    },
    {
      "cell_type": "code",
      "source": [
        "from sklearn.tree import DecisionTreeClassifier\n",
        "classifier = DecisionTreeClassifier()\n",
        "# Set the Pipeline\n",
        "model = Pipeline(steps=[('preprocessor', preprocessor),\n",
        "                        ('classifier', classifier)])\n",
        "\n",
        "# Fit the pipeline\n",
        "model.fit(X_train, y_train)\n",
        "\n",
        "# Predict\n",
        "y_pred = model.predict(X_test)\n",
        "\n",
        "# Evaluate\n",
        "print('Model score: {model.score(X_test, y_test)}')\n",
        "\n",
        "from sklearn.metrics import classification_report\n",
        "# compute the classification report\n",
        "print(classification_report(y_test, y_pred))\n",
        "adt = f1_score(y_test, y_pred)"
      ],
      "metadata": {
        "colab": {
          "base_uri": "https://localhost:8080/"
        },
        "id": "VcBh_DYJKVgG",
        "outputId": "581a048a-9e29-483d-e811-6340ab892c89"
      },
      "execution_count": 24,
      "outputs": [
        {
          "output_type": "stream",
          "name": "stderr",
          "text": [
            "/usr/local/lib/python3.10/dist-packages/sklearn/preprocessing/_encoders.py:868: FutureWarning: `sparse` was renamed to `sparse_output` in version 1.2 and will be removed in 1.4. `sparse_output` is ignored unless you leave `sparse` to its default value.\n",
            "  warnings.warn(\n"
          ]
        },
        {
          "output_type": "stream",
          "name": "stdout",
          "text": [
            "Model score: {model.score(X_test, y_test)}\n",
            "              precision    recall  f1-score   support\n",
            "\n",
            "         0.0       0.87      0.86      0.86     11184\n",
            "         1.0       0.54      0.55      0.54      3343\n",
            "\n",
            "    accuracy                           0.79     14527\n",
            "   macro avg       0.70      0.70      0.70     14527\n",
            "weighted avg       0.79      0.79      0.79     14527\n",
            "\n"
          ]
        }
      ]
    },
    {
      "cell_type": "markdown",
      "source": [
        "7. Random Forest"
      ],
      "metadata": {
        "id": "Tq4g-D4fKcZN"
      }
    },
    {
      "cell_type": "code",
      "source": [
        "from sklearn.ensemble import RandomForestClassifier\n",
        "classifier = RandomForestClassifier()\n",
        "# Set the Pipeline\n",
        "model = Pipeline(steps=[('preprocessor', preprocessor),\n",
        "                        ('classifier', classifier)])\n",
        "\n",
        "# Fit the pipeline\n",
        "model.fit(X_train, y_train)\n",
        "\n",
        "# Predict\n",
        "y_pred = model.predict(X_test)\n",
        "\n",
        "# Evaluate\n",
        "print('Model score: {model.score(X_test, y_test)}')\n",
        "\n",
        "from sklearn.metrics import classification_report\n",
        "# compute the classification report\n",
        "print(classification_report(y_test, y_pred))\n",
        "arf = f1_score(y_test, y_pred)"
      ],
      "metadata": {
        "colab": {
          "base_uri": "https://localhost:8080/"
        },
        "id": "XdXo_CAsKdGf",
        "outputId": "9a65d7ba-8647-4c48-95db-8bde949bc6c2"
      },
      "execution_count": 25,
      "outputs": [
        {
          "output_type": "stream",
          "name": "stderr",
          "text": [
            "/usr/local/lib/python3.10/dist-packages/sklearn/preprocessing/_encoders.py:868: FutureWarning: `sparse` was renamed to `sparse_output` in version 1.2 and will be removed in 1.4. `sparse_output` is ignored unless you leave `sparse` to its default value.\n",
            "  warnings.warn(\n"
          ]
        },
        {
          "output_type": "stream",
          "name": "stdout",
          "text": [
            "Model score: {model.score(X_test, y_test)}\n",
            "              precision    recall  f1-score   support\n",
            "\n",
            "         0.0       0.87      0.95      0.91     11184\n",
            "         1.0       0.77      0.53      0.63      3343\n",
            "\n",
            "    accuracy                           0.86     14527\n",
            "   macro avg       0.82      0.74      0.77     14527\n",
            "weighted avg       0.85      0.86      0.85     14527\n",
            "\n"
          ]
        }
      ]
    },
    {
      "cell_type": "markdown",
      "source": [
        " 4.α. Εκπαιδεύστε (fit)  και τους  7 ταξινομητές που προαναφέρθηκαν (εμφανίστε τα δείγματα από το train set μαζί με την ετικέτα τους στην είσοδο του κάθε ταξινομητή), χρησιμοποιώντας τις default τιμές για όλες τις παραμέτρους τους."
      ],
      "metadata": {
        "id": "a49EG4Z9U0yD"
      }
    },
    {
      "cell_type": "code",
      "source": [
        "# έγινε παραπάνω και στους 7 ταξινομητές ακριβώς κάτω από το σχόλιο # Fit the pipeline"
      ],
      "metadata": {
        "id": "-_kDpm_sWRjs"
      },
      "execution_count": 26,
      "outputs": []
    },
    {
      "cell_type": "markdown",
      "source": [
        "4.β. Εφαρμόστε στα εκπαιδευμένα μοντέλα από το validation set μόνο τα δείγματα χωρίς την ετικέτα τους (predict).\n"
      ],
      "metadata": {
        "id": "dkv21zidSgNX"
      }
    },
    {
      "cell_type": "code",
      "source": [
        "# έγινε παραπάνω και στους 7 ταξινομητές ακριβώς κάτω από το σχόλιο # Predict"
      ],
      "metadata": {
        "id": "3DqkKHMZQaDe"
      },
      "execution_count": 27,
      "outputs": []
    },
    {
      "cell_type": "markdown",
      "source": [
        "\n",
        "4.γ. Συγκρίνετε την έξοδο του κάθε μοντέλου σε σχέση με τις αντίστοιχες ετικέτες του validation set και αξιολογήστε την επιδοσή τους χρησιμοποιώντας το F1 score.\n"
      ],
      "metadata": {
        "id": "BsvLlbPRWaa_"
      }
    },
    {
      "cell_type": "code",
      "source": [
        "import pandas as pd\n",
        "import numpy as np\n",
        "\n",
        "# Assuming values and labels are defined\n",
        "values = np.array([anb, akn, amlp, adt, arf, asvc, alr])\n",
        "labels = ['Naive Bayes', 'KNeighborsClassifier', 'MLP with one hidden layer', 'Decision Tree', 'Random Forest', 'SVC', 'LogisticRegression']\n",
        "\n",
        "# Create a DataFrame\n",
        "table_df = pd.DataFrame({'Label': labels, 'F1 Value': values})\n",
        "\n",
        "# Display the table\n",
        "print(table_df)\n"
      ],
      "metadata": {
        "id": "9jkFxtNbWZvY",
        "colab": {
          "base_uri": "https://localhost:8080/"
        },
        "outputId": "bfd0faa1-27fd-43e4-c9e3-f78b4175a887"
      },
      "execution_count": 30,
      "outputs": [
        {
          "output_type": "stream",
          "name": "stdout",
          "text": [
            "                       Label  F1 Value\n",
            "0                Naive Bayes  0.499599\n",
            "1       KNeighborsClassifier  0.580678\n",
            "2  MLP with one hidden layer  0.650238\n",
            "3              Decision Tree  0.544358\n",
            "4              Random Forest  0.632082\n",
            "5                        SVC  0.633831\n",
            "6         LogisticRegression  0.627431\n"
          ]
        }
      ]
    },
    {
      "cell_type": "markdown",
      "source": [
        "4.δ.  Αξιολογήστε συνολικά την επίδοση των μοντέλων χρησιμοποιώντας κάποιο γράφημα (π.χ. ιστόγραμμα, bar plot) και σχολιάστε ποιο μοντέλο είχε την καλύτερη επίδοση.\n"
      ],
      "metadata": {
        "id": "F1SXqT2vWZTh"
      }
    },
    {
      "cell_type": "code",
      "source": [
        "from matplotlib import pyplot as plt\n",
        "import numpy as np\n",
        "\n",
        "# Assuming anb, akn, amlp, adt, arf, asvc, alr are numerical values\n",
        "# If not, replace them with actual numerical values\n",
        "values = np.array([anb, akn, amlp, adt, arf, asvc, alr])\n",
        "labels = ['anb', 'akn', 'amlp', 'adt', 'arf', 'asvc', 'alr']\n",
        "\n",
        "# Creating a bar chart\n",
        "fig, ax = plt.subplots(figsize=(10, 7))\n",
        "ax.bar(labels, values)\n",
        "\n",
        "# Adding labels and title\n",
        "ax.set_xlabel('Classifier')\n",
        "ax.set_ylabel('F1 Score')\n",
        "ax.set_title('Performance Comparison of Classifiers on Selected Features')\n",
        "\n",
        "# Show plot\n",
        "plt.show()\n"
      ],
      "metadata": {
        "id": "UOiOlTcJjISQ",
        "colab": {
          "base_uri": "https://localhost:8080/",
          "height": 661
        },
        "outputId": "a47402a5-d8b1-4e34-d12d-630617bb5a2c"
      },
      "execution_count": 29,
      "outputs": [
        {
          "output_type": "display_data",
          "data": {
            "text/plain": [
              "<Figure size 1000x700 with 1 Axes>"
            ],
            "image/png": "[encoded data removed]"
          },
          "metadata": {}
        }
      ]
    },
    {
      "cell_type": "markdown",
      "source": [
        "Βλέπουμε ότι το καλύτερο μοντέλο είναι το MLP αφού έχει το μεγαλύτερο F1 Score"
      ],
      "metadata": {
        "id": "3eF-n59dcGgn"
      }
    },
    {
      "cell_type": "markdown",
      "source": [
        "### 5. Προετοιμασία αρχείου για την πρώτη υποβολή στο kaggle"
      ],
      "metadata": {
        "id": "f1ZWds7ekAsL"
      }
    },
    {
      "cell_type": "markdown",
      "source": [
        "5.α. Χρησιμοποιήστε **ΜΟΝΟ** το μοντέλο σας με την καλύτερη επίδοση για να κάνετε προβλέψεις, χρησιμοποιώντας το [test set](https://drive.google.com/file/d/1bcmuoeRVY0y5ZuY6nZcmzy8_5fOFR4Oa/view?usp=drive_link).\n"
      ],
      "metadata": {
        "id": "atEnldNpkSTG"
      }
    },
    {
      "cell_type": "code",
      "source": [
        "import sklearn.neural_network as skl_nn\n",
        "classifier = skl_nn.MLPClassifier()\n",
        "# Set the Pipeline\n",
        "model = Pipeline(steps=[('preprocessor', preprocessor),\n",
        "                        ('classifier', classifier)])\n",
        "\n",
        "# Fit the pipeline\n",
        "model.fit(X_train, y_train)\n",
        "\n",
        "# Predict\n",
        "y_pred = model.predict(test)\n",
        "\n",
        "y_pred = y_pred.astype(int)\n",
        "result=pd.DataFrame(data={\"id\":range(1, len(y_pred) + 1), \"RainTomorrow\":y_pred})\n"
      ],
      "metadata": {
        "id": "UM0B638pkBLC",
        "colab": {
          "base_uri": "https://localhost:8080/"
        },
        "outputId": "54557967-7eb1-421e-9c8a-afdb6505c237"
      },
      "execution_count": 31,
      "outputs": [
        {
          "output_type": "stream",
          "name": "stderr",
          "text": [
            "/usr/local/lib/python3.10/dist-packages/sklearn/preprocessing/_encoders.py:868: FutureWarning: `sparse` was renamed to `sparse_output` in version 1.2 and will be removed in 1.4. `sparse_output` is ignored unless you leave `sparse` to its default value.\n",
            "  warnings.warn(\n",
            "/usr/local/lib/python3.10/dist-packages/sklearn/neural_network/_multilayer_perceptron.py:686: ConvergenceWarning: Stochastic Optimizer: Maximum iterations (200) reached and the optimization hasn't converged yet.\n",
            "  warnings.warn(\n"
          ]
        }
      ]
    },
    {
      "cell_type": "code",
      "source": [
        "y_pred = y_pred.astype(int)\n",
        "result=pd.DataFrame(data={\"id\":range(1, len(y_pred) + 1), \"RainTomorrow\":y_pred})\n",
        "result.info()\n",
        "\n",
        "result.to_csv('submission.csv', index=False)"
      ],
      "metadata": {
        "colab": {
          "base_uri": "https://localhost:8080/"
        },
        "id": "41yzbIf4QR78",
        "outputId": "a90dcdbe-4986-4c7c-c2a3-f38f91459adc"
      },
      "execution_count": 32,
      "outputs": [
        {
          "output_type": "stream",
          "name": "stdout",
          "text": [
            "<class 'pandas.core.frame.DataFrame'>\n",
            "RangeIndex: 9699 entries, 0 to 9698\n",
            "Data columns (total 2 columns):\n",
            " #   Column        Non-Null Count  Dtype\n",
            "---  ------        --------------  -----\n",
            " 0   id            9699 non-null   int64\n",
            " 1   RainTomorrow  9699 non-null   int64\n",
            "dtypes: int64(2)\n",
            "memory usage: 151.7 KB\n"
          ]
        }
      ]
    },
    {
      "cell_type": "code",
      "source": [
        "result"
      ],
      "metadata": {
        "id": "kw06l56oQfeH",
        "colab": {
          "base_uri": "https://localhost:8080/",
          "height": 436
        },
        "outputId": "cebfc458-93fb-4a0f-d6b0-a07456f8d813"
      },
      "execution_count": 33,
      "outputs": [
        {
          "output_type": "execute_result",
          "data": {
            "text/plain": [
              "        id  RainTomorrow\n",
              "0        1             0\n",
              "1        2             0\n",
              "2        3             0\n",
              "3        4             1\n",
              "4        5             0\n",
              "...    ...           ...\n",
              "9694  9695             0\n",
              "9695  9696             0\n",
              "9696  9697             0\n",
              "9697  9698             0\n",
              "9698  9699             0\n",
              "\n",
              "[9699 rows x 2 columns]"
            ],
            "text/html": [
              "\n",
              "  <div id=\"df-415834ee-dfdd-4748-ab84-b061b70aa422\" class=\"colab-df-container\">\n",
              "    <div>\n",
              "<style scoped>\n",
              "    .dataframe tbody tr th:only-of-type {\n",
              "        vertical-align: middle;\n",
              "    }\n",
              "\n",
              "    .dataframe tbody tr th {\n",
              "        vertical-align: top;\n",
              "    }\n",
              "\n",
              "    .dataframe thead th {\n",
              "        text-align: right;\n",
              "    }\n",
              "</style>\n",
              "<table border=\"1\" class=\"dataframe\">\n",
              "  <thead>\n",
              "    <tr style=\"text-align: right;\">\n",
              "      <th></th>\n",
              "      <th>id</th>\n",
              "      <th>RainTomorrow</th>\n",
              "    </tr>\n",
              "  </thead>\n",
              "  <tbody>\n",
              "    <tr>\n",
              "      <th>0</th>\n",
              "      <td>1</td>\n",
              "      <td>0</td>\n",
              "    </tr>\n",
              "    <tr>\n",
              "      <th>1</th>\n",
              "      <td>2</td>\n",
              "      <td>0</td>\n",
              "    </tr>\n",
              "    <tr>\n",
              "      <th>2</th>\n",
              "      <td>3</td>\n",
              "      <td>0</td>\n",
              "    </tr>\n",
              "    <tr>\n",
              "      <th>3</th>\n",
              "      <td>4</td>\n",
              "      <td>1</td>\n",
              "    </tr>\n",
              "    <tr>\n",
              "      <th>4</th>\n",
              "      <td>5</td>\n",
              "      <td>0</td>\n",
              "    </tr>\n",
              "    <tr>\n",
              "      <th>...</th>\n",
              "      <td>...</td>\n",
              "      <td>...</td>\n",
              "    </tr>\n",
              "    <tr>\n",
              "      <th>9694</th>\n",
              "      <td>9695</td>\n",
              "      <td>0</td>\n",
              "    </tr>\n",
              "    <tr>\n",
              "      <th>9695</th>\n",
              "      <td>9696</td>\n",
              "      <td>0</td>\n",
              "    </tr>\n",
              "    <tr>\n",
              "      <th>9696</th>\n",
              "      <td>9697</td>\n",
              "      <td>0</td>\n",
              "    </tr>\n",
              "    <tr>\n",
              "      <th>9697</th>\n",
              "      <td>9698</td>\n",
              "      <td>0</td>\n",
              "    </tr>\n",
              "    <tr>\n",
              "      <th>9698</th>\n",
              "      <td>9699</td>\n",
              "      <td>0</td>\n",
              "    </tr>\n",
              "  </tbody>\n",
              "</table>\n",
              "<p>9699 rows × 2 columns</p>\n",
              "</div>\n",
              "    <div class=\"colab-df-buttons\">\n",
              "\n",
              "  <div class=\"colab-df-container\">\n",
              "    <button class=\"colab-df-convert\" onclick=\"convertToInteractive('df-415834ee-dfdd-4748-ab84-b061b70aa422')\"\n",
              "            title=\"Convert this dataframe to an interactive table.\"\n",
              "            style=\"display:none;\">\n",
              "\n",
              "  <svg xmlns=\"http://www.w3.org/2000/svg\" height=\"24px\" viewBox=\"0 -960 960 960\">\n",
              "    <path d=\"M120-120v-720h720v720H120Zm60-500h600v-160H180v160Zm220 220h160v-160H400v160Zm0 220h160v-160H400v160ZM180-400h160v-160H180v160Zm440 0h160v-160H620v160ZM180-180h160v-160H180v160Zm440 0h160v-160H620v160Z\"/>\n",
              "  </svg>\n",
              "    </button>\n",
              "\n",
              "  <style>\n",
              "    .colab-df-container {\n",
              "      display:flex;\n",
              "      gap: 12px;\n",
              "    }\n",
              "\n",
              "    .colab-df-convert {\n",
              "      background-color: #E8F0FE;\n",
              "      border: none;\n",
              "      border-radius: 50%;\n",
              "      cursor: pointer;\n",
              "      display: none;\n",
              "      fill: #1967D2;\n",
              "      height: 32px;\n",
              "      padding: 0 0 0 0;\n",
              "      width: 32px;\n",
              "    }\n",
              "\n",
              "    .colab-df-convert:hover {\n",
              "      background-color: #E2EBFA;\n",
              "      box-shadow: 0px 1px 2px rgba(60, 64, 67, 0.3), 0px 1px 3px 1px rgba(60, 64, 67, 0.15);\n",
              "      fill: #174EA6;\n",
              "    }\n",
              "\n",
              "    .colab-df-buttons div {\n",
              "      margin-bottom: 4px;\n",
              "    }\n",
              "\n",
              "    [theme=dark] .colab-df-convert {\n",
              "      background-color: #3B4455;\n",
              "      fill: #D2E3FC;\n",
              "    }\n",
              "\n",
              "    [theme=dark] .colab-df-convert:hover {\n",
              "      background-color: #434B5C;\n",
              "      box-shadow: 0px 1px 3px 1px rgba(0, 0, 0, 0.15);\n",
              "      filter: drop-shadow(0px 1px 2px rgba(0, 0, 0, 0.3));\n",
              "      fill: #FFFFFF;\n",
              "    }\n",
              "  </style>\n",
              "\n",
              "    <script>\n",
              "      const buttonEl =\n",
              "        document.querySelector('#df-415834ee-dfdd-4748-ab84-b061b70aa422 button.colab-df-convert');\n",
              "      buttonEl.style.display =\n",
              "        google.colab.kernel.accessAllowed ? 'block' : 'none';\n",
              "\n",
              "      async function convertToInteractive(key) {\n",
              "        const element = document.querySelector('#df-415834ee-dfdd-4748-ab84-b061b70aa422');\n",
              "        const dataTable =\n",
              "          await google.colab.kernel.invokeFunction('convertToInteractive',\n",
              "                                                    [key], {});\n",
              "        if (!dataTable) return;\n",
              "\n",
              "        const docLinkHtml = 'Like what you see? Visit the ' +\n",
              "          '<a target=\"_blank\" href=https://colab.research.google.com/notebooks/data_table.ipynb>data table notebook</a>'\n",
              "          + ' to learn more about interactive tables.';\n",
              "        element.innerHTML = '';\n",
              "        dataTable['output_type'] = 'display_data';\n",
              "        await google.colab.output.renderOutput(dataTable, element);\n",
              "        const docLink = document.createElement('div');\n",
              "        docLink.innerHTML = docLinkHtml;\n",
              "        element.appendChild(docLink);\n",
              "      }\n",
              "    </script>\n",
              "  </div>\n",
              "\n",
              "\n",
              "<div id=\"df-145e6363-64fc-469b-a999-1dde1a892d46\">\n",
              "  <button class=\"colab-df-quickchart\" onclick=\"quickchart('df-145e6363-64fc-469b-a999-1dde1a892d46')\"\n",
              "            title=\"Suggest charts\"\n",
              "            style=\"display:none;\">\n",
              "\n",
              "<svg xmlns=\"http://www.w3.org/2000/svg\" height=\"24px\"viewBox=\"0 0 24 24\"\n",
              "     width=\"24px\">\n",
              "    <g>\n",
              "        <path d=\"M19 3H5c-1.1 0-2 .9-2 2v14c0 1.1.9 2 2 2h14c1.1 0 2-.9 2-2V5c0-1.1-.9-2-2-2zM9 17H7v-7h2v7zm4 0h-2V7h2v10zm4 0h-2v-4h2v4z\"/>\n",
              "    </g>\n",
              "</svg>\n",
              "  </button>\n",
              "\n",
              "<style>\n",
              "  .colab-df-quickchart {\n",
              "      --bg-color: #E8F0FE;\n",
              "      --fill-color: #1967D2;\n",
              "      --hover-bg-color: #E2EBFA;\n",
              "      --hover-fill-color: #174EA6;\n",
              "      --disabled-fill-color: #AAA;\n",
              "      --disabled-bg-color: #DDD;\n",
              "  }\n",
              "\n",
              "  [theme=dark] .colab-df-quickchart {\n",
              "      --bg-color: #3B4455;\n",
              "      --fill-color: #D2E3FC;\n",
              "      --hover-bg-color: #434B5C;\n",
              "      --hover-fill-color: #FFFFFF;\n",
              "      --disabled-bg-color: #3B4455;\n",
              "      --disabled-fill-color: #666;\n",
              "  }\n",
              "\n",
              "  .colab-df-quickchart {\n",
              "    background-color: var(--bg-color);\n",
              "    border: none;\n",
              "    border-radius: 50%;\n",
              "    cursor: pointer;\n",
              "    display: none;\n",
              "    fill: var(--fill-color);\n",
              "    height: 32px;\n",
              "    padding: 0;\n",
              "    width: 32px;\n",
              "  }\n",
              "\n",
              "  .colab-df-quickchart:hover {\n",
              "    background-color: var(--hover-bg-color);\n",
              "    box-shadow: 0 1px 2px rgba(60, 64, 67, 0.3), 0 1px 3px 1px rgba(60, 64, 67, 0.15);\n",
              "    fill: var(--button-hover-fill-color);\n",
              "  }\n",
              "\n",
              "  .colab-df-quickchart-complete:disabled,\n",
              "  .colab-df-quickchart-complete:disabled:hover {\n",
              "    background-color: var(--disabled-bg-color);\n",
              "    fill: var(--disabled-fill-color);\n",
              "    box-shadow: none;\n",
              "  }\n",
              "\n",
              "  .colab-df-spinner {\n",
              "    border: 2px solid var(--fill-color);\n",
              "    border-color: transparent;\n",
              "    border-bottom-color: var(--fill-color);\n",
              "    animation:\n",
              "      spin 1s steps(1) infinite;\n",
              "  }\n",
              "\n",
              "  @keyframes spin {\n",
              "    0% {\n",
              "      border-color: transparent;\n",
              "      border-bottom-color: var(--fill-color);\n",
              "      border-left-color: var(--fill-color);\n",
              "    }\n",
              "    20% {\n",
              "      border-color: transparent;\n",
              "      border-left-color: var(--fill-color);\n",
              "      border-top-color: var(--fill-color);\n",
              "    }\n",
              "    30% {\n",
              "      border-color: transparent;\n",
              "      border-left-color: var(--fill-color);\n",
              "      border-top-color: var(--fill-color);\n",
              "      border-right-color: var(--fill-color);\n",
              "    }\n",
              "    40% {\n",
              "      border-color: transparent;\n",
              "      border-right-color: var(--fill-color);\n",
              "      border-top-color: var(--fill-color);\n",
              "    }\n",
              "    60% {\n",
              "      border-color: transparent;\n",
              "      border-right-color: var(--fill-color);\n",
              "    }\n",
              "    80% {\n",
              "      border-color: transparent;\n",
              "      border-right-color: var(--fill-color);\n",
              "      border-bottom-color: var(--fill-color);\n",
              "    }\n",
              "    90% {\n",
              "      border-color: transparent;\n",
              "      border-bottom-color: var(--fill-color);\n",
              "    }\n",
              "  }\n",
              "</style>\n",
              "\n",
              "  <script>\n",
              "    async function quickchart(key) {\n",
              "      const quickchartButtonEl =\n",
              "        document.querySelector('#' + key + ' button');\n",
              "      quickchartButtonEl.disabled = true;  // To prevent multiple clicks.\n",
              "      quickchartButtonEl.classList.add('colab-df-spinner');\n",
              "      try {\n",
              "        const charts = await google.colab.kernel.invokeFunction(\n",
              "            'suggestCharts', [key], {});\n",
              "      } catch (error) {\n",
              "        console.error('Error during call to suggestCharts:', error);\n",
              "      }\n",
              "      quickchartButtonEl.classList.remove('colab-df-spinner');\n",
              "      quickchartButtonEl.classList.add('colab-df-quickchart-complete');\n",
              "    }\n",
              "    (() => {\n",
              "      let quickchartButtonEl =\n",
              "        document.querySelector('#df-145e6363-64fc-469b-a999-1dde1a892d46 button');\n",
              "      quickchartButtonEl.style.display =\n",
              "        google.colab.kernel.accessAllowed ? 'block' : 'none';\n",
              "    })();\n",
              "  </script>\n",
              "</div>\n",
              "    </div>\n",
              "  </div>\n"
            ]
          },
          "metadata": {},
          "execution_count": 33
        }
      ]
    },
    {
      "cell_type": "markdown",
      "source": [
        "5.β. Αποθηκεύστε τις προβλέψεις από το καλύτερο μοντέλο σας σε ένα csv αρχείο. To csv αρχείο θα πρέπει να είναι περιέχει 2 στήλες: η πρώτη στήλη να περιέχει την στήλη id του test set file και η δεύτερη στήλη τις αντίστοιχες προβλέψεις που έκανε το καλύτερα εκπαιδευμένο μοντέλο σας (βήμα 5α)."
      ],
      "metadata": {
        "id": "_WwjA-3kjFRj"
      }
    },
    {
      "cell_type": "code",
      "source": [
        "# έγινε παραπάνω"
      ],
      "metadata": {
        "id": "Z6SPFOpZjF5l"
      },
      "execution_count": 34,
      "outputs": []
    },
    {
      "cell_type": "markdown",
      "source": [
        "### 6. Βελτιστοποίηση μοντέλων με εύρεση καλύτερων υπερπαραμέτρων των ταξινομητών\n",
        "\n",
        "6.α. Για τους 7 ταξινομητές βελτιστοποιήστε την επίδοσή τους χρησιμοποιώντας αναζήτηση πλέγματος με διασταυρούμενη επικύρωση (k-fold 5)  με σκοπό την εύρεση των βέλτιστων υπερπαραμέτρων."
      ],
      "metadata": {
        "id": "j6OoLlxrYILN"
      }
    },
    {
      "cell_type": "markdown",
      "source": [
        "*Naive* Bayes"
      ],
      "metadata": {
        "id": "32gWbEsJZlR8"
      }
    },
    {
      "cell_type": "code",
      "source": [
        "from sklearn.model_selection import GridSearchCV\n",
        "from sklearn.naive_bayes import GaussianNB\n",
        "\n",
        "classifier = GaussianNB()\n",
        "import numpy as np\n",
        "search_space =[\n",
        "                {'classifier': [GaussianNB()],\n",
        "    'classifier__priors': [None],\n",
        "    'classifier__var_smoothing': [1e-9, 1e-8, 1e-7, 1e-6],\n",
        "                }\n",
        "              ]\n",
        "\n",
        "\n",
        "\n",
        "model = Pipeline(steps=[('preprocessor', preprocessor),\n",
        "                        ('classifier', classifier)])\n",
        "\n",
        "\n",
        "grid = GridSearchCV(model, search_space, cv=5, verbose=0)\n",
        "\n"
      ],
      "metadata": {
        "id": "FK_zetZLlOeV"
      },
      "execution_count": 42,
      "outputs": []
    },
    {
      "cell_type": "code",
      "source": [
        "import warnings\n",
        "warnings.filterwarnings(\"ignore\")\n",
        "from sklearn.exceptions import FitFailedWarning\n",
        "best_model = grid.fit(X, y)\n"
      ],
      "metadata": {
        "id": "eCQoBDblZpue"
      },
      "execution_count": 43,
      "outputs": []
    },
    {
      "cell_type": "code",
      "source": [
        "best_param = grid.best_params_\n",
        "print(best_param)\n",
        "\n",
        "# Stores the optimum model in best_pipe\n",
        "best_pipe = grid.best_estimator_\n",
        "print(best_pipe)"
      ],
      "metadata": {
        "id": "SmL1Ovcjb8rp",
        "colab": {
          "base_uri": "https://localhost:8080/"
        },
        "outputId": "9ade2d7f-7c4d-484b-92da-dcf34f1a6698"
      },
      "execution_count": 44,
      "outputs": [
        {
          "output_type": "stream",
          "name": "stdout",
          "text": [
            "{'classifier': GaussianNB(var_smoothing=1e-06), 'classifier__priors': None, 'classifier__var_smoothing': 1e-06}\n",
            "Pipeline(steps=[('preprocessor',\n",
            "                 ColumnTransformer(transformers=[('num',\n",
            "                                                  Pipeline(steps=[('imputer',\n",
            "                                                                   SimpleImputer()),\n",
            "                                                                  ('scaler',\n",
            "                                                                   StandardScaler())]),\n",
            "                                                  ['MinTemp', 'MaxTemp',\n",
            "                                                   'Rainfall', 'Evaporation',\n",
            "                                                   'Sunshine', 'WindGustSpeed',\n",
            "                                                   'WindSpeed9am',\n",
            "                                                   'WindSpeed3pm',\n",
            "                                                   'Humidity9am', 'Humidity3pm',\n",
            "                                                   'Pressure9am', 'Pressure3pm',\n",
            "                                                   'Cloud9am', 'Cloud3pm',\n",
            "                                                   'Temp9am', 'Temp3pm',\n",
            "                                                   'RainToday']),\n",
            "                                                 ('cat',\n",
            "                                                  Pipeline(steps=[('imputer',\n",
            "                                                                   SimpleImputer(strategy='most_frequent')),\n",
            "                                                                  ('scaler',\n",
            "                                                                   OneHotEncoder(handle_unknown='ignore',\n",
            "                                                                                 sparse=False))]),\n",
            "                                                  ['Location'])])),\n",
            "                ('classifier', GaussianNB(var_smoothing=1e-06))])\n"
          ]
        }
      ]
    },
    {
      "cell_type": "code",
      "source": [
        "preds = best_model.predict(X_test)\n",
        "from sklearn.metrics import accuracy_score\n",
        "anb = f1_score(y_test, preds)\n",
        "print(classification_report(y_test, preds))"
      ],
      "metadata": {
        "id": "P5vwhM0AcC_g",
        "colab": {
          "base_uri": "https://localhost:8080/"
        },
        "outputId": "4f22ed4e-1df8-41b9-e7ba-c340d50e25c3"
      },
      "execution_count": 45,
      "outputs": [
        {
          "output_type": "stream",
          "name": "stdout",
          "text": [
            "              precision    recall  f1-score   support\n",
            "\n",
            "         0.0       0.90      0.63      0.74     11184\n",
            "         1.0       0.38      0.75      0.50      3343\n",
            "\n",
            "    accuracy                           0.66     14527\n",
            "   macro avg       0.64      0.69      0.62     14527\n",
            "weighted avg       0.78      0.66      0.68     14527\n",
            "\n"
          ]
        }
      ]
    },
    {
      "cell_type": "markdown",
      "source": [
        "KNeighborsClassifier"
      ],
      "metadata": {
        "id": "HnLSISRPcG_r"
      }
    },
    {
      "cell_type": "code",
      "source": [
        "from sklearn.model_selection import GridSearchCV\n",
        "from sklearn.neighbors import KNeighborsClassifier\n",
        "import numpy as np\n",
        "search_space =[\n",
        "                {'classifier': [KNeighborsClassifier()],\n",
        "                 'classifier__n_neighbors': [1, 3, 5],\n",
        "                 'classifier__metric':['euclidean','manhattan']\n",
        "                },\n",
        "\n",
        "              ]\n",
        "\n",
        "classifier = KNeighborsClassifier()\n",
        "\n",
        "model = Pipeline(steps=[('preprocessor', preprocessor),\n",
        "                        ('classifier', classifier)])\n",
        "\n",
        "grid = GridSearchCV(model, search_space, cv=5, verbose=0)\n",
        "\n"
      ],
      "metadata": {
        "id": "tLFvhWxycHwh"
      },
      "execution_count": 46,
      "outputs": []
    },
    {
      "cell_type": "code",
      "source": [
        "import warnings\n",
        "warnings.filterwarnings(\"ignore\")\n",
        "from sklearn.exceptions import FitFailedWarning\n",
        "best_model = grid.fit(X, y)\n"
      ],
      "metadata": {
        "id": "3AzaxqyocLj7"
      },
      "execution_count": 47,
      "outputs": []
    },
    {
      "cell_type": "code",
      "source": [
        "best_param = grid.best_params_\n",
        "print(best_param)\n",
        "\n",
        "# Stores the optimum model in best_pipe\n",
        "best_pipe = grid.best_estimator_\n",
        "print(best_pipe)"
      ],
      "metadata": {
        "id": "41JbQJtmcNuM",
        "colab": {
          "base_uri": "https://localhost:8080/"
        },
        "outputId": "a7812480-3a0c-4f08-c471-ecdc27d6a1ca"
      },
      "execution_count": 48,
      "outputs": [
        {
          "output_type": "stream",
          "name": "stdout",
          "text": [
            "{'classifier': KNeighborsClassifier(metric='euclidean', n_neighbors=3), 'classifier__metric': 'euclidean', 'classifier__n_neighbors': 3}\n",
            "Pipeline(steps=[('preprocessor',\n",
            "                 ColumnTransformer(transformers=[('num',\n",
            "                                                  Pipeline(steps=[('imputer',\n",
            "                                                                   SimpleImputer()),\n",
            "                                                                  ('scaler',\n",
            "                                                                   StandardScaler())]),\n",
            "                                                  ['MinTemp', 'MaxTemp',\n",
            "                                                   'Rainfall', 'Evaporation',\n",
            "                                                   'Sunshine', 'WindGustSpeed',\n",
            "                                                   'WindSpeed9am',\n",
            "                                                   'WindSpeed3pm',\n",
            "                                                   'Humidity9am', 'Humidity3pm',\n",
            "                                                   'Pressure9am', 'Pressure3pm',\n",
            "                                                   'Cloud9am', 'Cloud3pm',\n",
            "                                                   'Temp9am', 'Temp3pm',\n",
            "                                                   'RainToday']),\n",
            "                                                 ('cat',\n",
            "                                                  Pipeline(steps=[('imputer',\n",
            "                                                                   SimpleImputer(strategy='most_frequent')),\n",
            "                                                                  ('scaler',\n",
            "                                                                   OneHotEncoder(handle_unknown='ignore',\n",
            "                                                                                 sparse=False))]),\n",
            "                                                  ['Location'])])),\n",
            "                ('classifier',\n",
            "                 KNeighborsClassifier(metric='euclidean', n_neighbors=3))])\n"
          ]
        }
      ]
    },
    {
      "cell_type": "code",
      "source": [
        "preds = best_model.predict(X_test)\n",
        "from sklearn.metrics import accuracy_score\n",
        "akn = f1_score(y_test, preds)\n",
        "print(classification_report(y_test, preds))"
      ],
      "metadata": {
        "id": "plONi7YycPz1",
        "colab": {
          "base_uri": "https://localhost:8080/"
        },
        "outputId": "fcc35c4b-78e3-4a0f-e755-66a214edaf67"
      },
      "execution_count": 49,
      "outputs": [
        {
          "output_type": "stream",
          "name": "stdout",
          "text": [
            "              precision    recall  f1-score   support\n",
            "\n",
            "         0.0       0.91      0.96      0.94     11184\n",
            "         1.0       0.84      0.70      0.76      3343\n",
            "\n",
            "    accuracy                           0.90     14527\n",
            "   macro avg       0.87      0.83      0.85     14527\n",
            "weighted avg       0.90      0.90      0.90     14527\n",
            "\n"
          ]
        }
      ]
    },
    {
      "cell_type": "markdown",
      "source": [
        "LogisticRegression\n"
      ],
      "metadata": {
        "id": "n8l_TPCwd7QJ"
      }
    },
    {
      "cell_type": "code",
      "source": [
        "from sklearn.model_selection import GridSearchCV\n",
        "from sklearn.linear_model import LogisticRegression\n",
        "import numpy as np\n",
        "search_space =[\n",
        "                {'classifier': [LogisticRegression()],\n",
        "                 'classifier__penalty': ['l1', 'l2'],\n",
        "                 'classifier__C': np.logspace(0, 4, 10)}\n",
        "\n",
        "              ]\n",
        "\n",
        "classifier = LogisticRegression()\n",
        "\n",
        "model = Pipeline(steps=[('preprocessor', preprocessor),\n",
        "                        ('classifier', classifier)])\n",
        "\n",
        "grid = GridSearchCV(model, search_space, cv=5, verbose=0)\n"
      ],
      "metadata": {
        "id": "7YewtE2vd-4X"
      },
      "execution_count": 65,
      "outputs": []
    },
    {
      "cell_type": "code",
      "source": [
        "import warnings\n",
        "warnings.filterwarnings(\"ignore\")\n",
        "from sklearn.exceptions import FitFailedWarning\n",
        "best_model = grid.fit(X, y)\n",
        "best_param = grid.best_params_\n",
        "print(best_param)\n",
        "\n",
        "# Stores the optimum model in best_pipe\n",
        "best_pipe = grid.best_estimator_\n",
        "print(best_pipe)"
      ],
      "metadata": {
        "id": "G6C0ZgJneH5T",
        "colab": {
          "base_uri": "https://localhost:8080/"
        },
        "outputId": "e1a664df-0544-4e48-c69f-5f1622676963"
      },
      "execution_count": 66,
      "outputs": [
        {
          "output_type": "stream",
          "name": "stdout",
          "text": [
            "{'classifier': LogisticRegression(), 'classifier__C': 1.0, 'classifier__penalty': 'l2'}\n",
            "Pipeline(steps=[('preprocessor',\n",
            "                 ColumnTransformer(transformers=[('num',\n",
            "                                                  Pipeline(steps=[('imputer',\n",
            "                                                                   SimpleImputer()),\n",
            "                                                                  ('scaler',\n",
            "                                                                   StandardScaler())]),\n",
            "                                                  ['MinTemp', 'MaxTemp',\n",
            "                                                   'Rainfall', 'Evaporation',\n",
            "                                                   'Sunshine', 'WindGustSpeed',\n",
            "                                                   'WindSpeed9am',\n",
            "                                                   'WindSpeed3pm',\n",
            "                                                   'Humidity9am', 'Humidity3pm',\n",
            "                                                   'Pressure9am', 'Pressure3pm',\n",
            "                                                   'Cloud9am', 'Cloud3pm',\n",
            "                                                   'Temp9am', 'Temp3pm',\n",
            "                                                   'RainToday']),\n",
            "                                                 ('cat',\n",
            "                                                  Pipeline(steps=[('imputer',\n",
            "                                                                   SimpleImputer(strategy='most_frequent')),\n",
            "                                                                  ('scaler',\n",
            "                                                                   OneHotEncoder(handle_unknown='ignore',\n",
            "                                                                                 sparse=False))]),\n",
            "                                                  ['Location'])])),\n",
            "                ('classifier', LogisticRegression())])\n"
          ]
        }
      ]
    },
    {
      "cell_type": "code",
      "source": [
        "preds = best_model.predict(X_test)\n",
        "from sklearn.metrics import accuracy_score\n",
        "alr = f1_score(y_test, preds)\n",
        "print(classification_report(y_test, preds))"
      ],
      "metadata": {
        "id": "b4Q7JwiEeL9O",
        "colab": {
          "base_uri": "https://localhost:8080/"
        },
        "outputId": "efd73753-99be-4625-d213-125c12ace729"
      },
      "execution_count": 67,
      "outputs": [
        {
          "output_type": "stream",
          "name": "stdout",
          "text": [
            "              precision    recall  f1-score   support\n",
            "\n",
            "         0.0       0.87      0.95      0.91     11184\n",
            "         1.0       0.75      0.54      0.63      3343\n",
            "\n",
            "    accuracy                           0.85     14527\n",
            "   macro avg       0.81      0.74      0.77     14527\n",
            "weighted avg       0.84      0.85      0.84     14527\n",
            "\n"
          ]
        }
      ]
    },
    {
      "cell_type": "markdown",
      "source": [
        "MLP με ένα κρυφό επίπεδο\n"
      ],
      "metadata": {
        "id": "T6k4D6FJffM_"
      }
    },
    {
      "cell_type": "code",
      "source": [
        "from sklearn.model_selection import GridSearchCV\n",
        "import sklearn.neural_network as skl_nn\n",
        "\n",
        "import numpy as np\n",
        "search_space =[\n",
        "               {'classifier': [skl_nn.MLPClassifier()],\n",
        "                 'classifier__hidden_layer_sizes': [4],\n",
        "                 'classifier__alpha': [1e-3],\n",
        "                'classifier__max_iter': [600]\n",
        "                }\n",
        "              ]\n",
        "\n",
        "classifier = skl_nn.MLPClassifier()\n",
        "\n",
        "model = Pipeline(steps=[('preprocessor', preprocessor),\n",
        "                        ('classifier', classifier)])\n",
        "\n",
        "grid = GridSearchCV(model, search_space, cv=5, verbose=0)\n"
      ],
      "metadata": {
        "id": "I4nm7oJjfefD"
      },
      "execution_count": 61,
      "outputs": []
    },
    {
      "cell_type": "code",
      "source": [
        "import warnings\n",
        "warnings.filterwarnings(\"ignore\")\n",
        "from sklearn.exceptions import FitFailedWarning\n",
        "best_model = grid.fit(X, y)\n",
        "best_param = grid.best_params_\n",
        "print(best_param)\n",
        "\n",
        "# Stores the optimum model in best_pipe\n",
        "best_pipe = grid.best_estimator_\n",
        "print(best_pipe)"
      ],
      "metadata": {
        "id": "i-hTcRaCfj7X",
        "colab": {
          "base_uri": "https://localhost:8080/"
        },
        "outputId": "4a6e4877-d2bc-478c-eefe-e454561d901d"
      },
      "execution_count": 62,
      "outputs": [
        {
          "output_type": "stream",
          "name": "stdout",
          "text": [
            "{'classifier': MLPClassifier(alpha=0.001, hidden_layer_sizes=4, max_iter=600), 'classifier__alpha': 0.001, 'classifier__hidden_layer_sizes': 4, 'classifier__max_iter': 600}\n",
            "Pipeline(steps=[('preprocessor',\n",
            "                 ColumnTransformer(transformers=[('num',\n",
            "                                                  Pipeline(steps=[('imputer',\n",
            "                                                                   SimpleImputer()),\n",
            "                                                                  ('scaler',\n",
            "                                                                   StandardScaler())]),\n",
            "                                                  ['MinTemp', 'MaxTemp',\n",
            "                                                   'Rainfall', 'Evaporation',\n",
            "                                                   'Sunshine', 'WindGustSpeed',\n",
            "                                                   'WindSpeed9am',\n",
            "                                                   'WindSpeed3pm',\n",
            "                                                   'Humidity9am', 'Humidity3pm',\n",
            "                                                   'Pressure9am', 'Pressure3pm',\n",
            "                                                   'Cloud9am', 'Cloud3pm',\n",
            "                                                   'Temp9am', 'Temp3pm',\n",
            "                                                   'RainToday']),\n",
            "                                                 ('cat',\n",
            "                                                  Pipeline(steps=[('imputer',\n",
            "                                                                   SimpleImputer(strategy='most_frequent')),\n",
            "                                                                  ('scaler',\n",
            "                                                                   OneHotEncoder(handle_unknown='ignore',\n",
            "                                                                                 sparse=False))]),\n",
            "                                                  ['Location'])])),\n",
            "                ('classifier',\n",
            "                 MLPClassifier(alpha=0.001, hidden_layer_sizes=4,\n",
            "                               max_iter=600))])\n"
          ]
        }
      ]
    },
    {
      "cell_type": "code",
      "source": [
        "\n",
        "preds = best_model.predict(X_test)\n",
        "from sklearn.metrics import f1_score\n",
        "from sklearn.metrics import classification_report\n",
        "amlp = f1_score(y_test, preds)\n",
        "amlp\n",
        "print(classification_report(y_test, preds))"
      ],
      "metadata": {
        "id": "V7k5Zu_9hbd8",
        "colab": {
          "base_uri": "https://localhost:8080/"
        },
        "outputId": "3993cd9f-18ac-4fe8-ca2d-32bebd2c6fd2"
      },
      "execution_count": 63,
      "outputs": [
        {
          "output_type": "stream",
          "name": "stdout",
          "text": [
            "              precision    recall  f1-score   support\n",
            "\n",
            "         0.0       0.88      0.94      0.91     11184\n",
            "         1.0       0.75      0.58      0.65      3343\n",
            "\n",
            "    accuracy                           0.86     14527\n",
            "   macro avg       0.82      0.76      0.78     14527\n",
            "weighted avg       0.85      0.86      0.85     14527\n",
            "\n"
          ]
        }
      ]
    },
    {
      "cell_type": "markdown",
      "source": [
        "SVC"
      ],
      "metadata": {
        "id": "e8M7Lw1JlBng"
      }
    },
    {
      "cell_type": "code",
      "source": [
        "from sklearn.model_selection import GridSearchCV\n",
        "from sklearn.svm import SVC\n",
        "\n",
        "import numpy as np\n",
        "search_space =[\n",
        "                {'classifier': [SVC()],\n",
        "                 'classifier__max_iter': [500],\n",
        "                 'classifier__kernel': ['rbf','linear'],\n",
        "                 'classifier__gamma': [0.1,0.01,1e-3],\n",
        "                 'classifier__C': [1, 10]\n",
        "                }\n",
        "              ]\n",
        "\n",
        "classifier = SVC()\n",
        "\n",
        "model = Pipeline(steps=[('preprocessor', preprocessor),\n",
        "                        ('classifier', classifier)])\n",
        "\n",
        "grid = GridSearchCV(model, search_space, cv=5, verbose=0)\n",
        "\n"
      ],
      "metadata": {
        "id": "Jj4vKr8elCjZ"
      },
      "execution_count": 50,
      "outputs": []
    },
    {
      "cell_type": "code",
      "source": [
        "import warnings\n",
        "warnings.filterwarnings(\"ignore\")\n",
        "from sklearn.exceptions import FitFailedWarning\n",
        "best_model = grid.fit(X, y)\n",
        "best_param = grid.best_params_\n",
        "print(best_param)\n",
        "\n",
        "# Stores the optimum model in best_pipe\n",
        "best_pipe = grid.best_estimator_\n",
        "print(best_pipe)"
      ],
      "metadata": {
        "id": "8v3JcR6QlTGz",
        "colab": {
          "base_uri": "https://localhost:8080/"
        },
        "outputId": "0b5169ff-293f-4a8d-cdad-148f6f867c3a"
      },
      "execution_count": 51,
      "outputs": [
        {
          "output_type": "stream",
          "name": "stdout",
          "text": [
            "{'classifier': SVC(C=1, gamma=0.01, kernel='linear', max_iter=500), 'classifier__C': 1, 'classifier__gamma': 0.01, 'classifier__kernel': 'linear', 'classifier__max_iter': 500}\n",
            "Pipeline(steps=[('preprocessor',\n",
            "                 ColumnTransformer(transformers=[('num',\n",
            "                                                  Pipeline(steps=[('imputer',\n",
            "                                                                   SimpleImputer()),\n",
            "                                                                  ('scaler',\n",
            "                                                                   StandardScaler())]),\n",
            "                                                  ['MinTemp', 'MaxTemp',\n",
            "                                                   'Rainfall', 'Evaporation',\n",
            "                                                   'Sunshine', 'WindGustSpeed',\n",
            "                                                   'WindSpeed9am',\n",
            "                                                   'WindSpeed3pm',\n",
            "                                                   'Humidity9am', 'Humidity3pm',\n",
            "                                                   'Pressure9am', 'Pressure3pm',\n",
            "                                                   'Cloud9am', 'Cloud3pm',\n",
            "                                                   'Temp9am', 'Temp3pm',\n",
            "                                                   'RainToday']),\n",
            "                                                 ('cat',\n",
            "                                                  Pipeline(steps=[('imputer',\n",
            "                                                                   SimpleImputer(strategy='most_frequent')),\n",
            "                                                                  ('scaler',\n",
            "                                                                   OneHotEncoder(handle_unknown='ignore',\n",
            "                                                                                 sparse=False))]),\n",
            "                                                  ['Location'])])),\n",
            "                ('classifier',\n",
            "                 SVC(C=1, gamma=0.01, kernel='linear', max_iter=500))])\n"
          ]
        }
      ]
    },
    {
      "cell_type": "code",
      "source": [
        "preds = best_model.predict(X_test)\n",
        "from sklearn.metrics import accuracy_score\n",
        "asvc = f1_score(y_test, preds)\n",
        "asvc\n",
        "print(classification_report(y_test, preds))"
      ],
      "metadata": {
        "id": "AS1Uc3hehVOS",
        "colab": {
          "base_uri": "https://localhost:8080/"
        },
        "outputId": "31431557-e57c-4c4e-8465-b33a02926a17"
      },
      "execution_count": 52,
      "outputs": [
        {
          "output_type": "stream",
          "name": "stdout",
          "text": [
            "              precision    recall  f1-score   support\n",
            "\n",
            "         0.0       0.80      0.25      0.38     11184\n",
            "         1.0       0.24      0.79      0.37      3343\n",
            "\n",
            "    accuracy                           0.38     14527\n",
            "   macro avg       0.52      0.52      0.37     14527\n",
            "weighted avg       0.67      0.38      0.38     14527\n",
            "\n"
          ]
        }
      ]
    },
    {
      "cell_type": "markdown",
      "source": [
        "Decission Tree"
      ],
      "metadata": {
        "id": "3MtD3GPIg291"
      }
    },
    {
      "cell_type": "code",
      "source": [
        "from sklearn.model_selection import GridSearchCV\n",
        "from sklearn.tree import DecisionTreeClassifier\n",
        "\n",
        "import numpy as np\n",
        "search_space =[\n",
        "\n",
        "               {'classifier': [DecisionTreeClassifier()],\n",
        "                'classifier__min_samples_leaf': range(9, 11, 1),\n",
        "                 'classifier__max_depth': range(1,3),\n",
        "                }\n",
        "              ]\n",
        "classifier = DecisionTreeClassifier()\n",
        "\n",
        "model = Pipeline(steps=[('preprocessor', preprocessor),\n",
        "                        ('classifier', classifier)])\n",
        "grid = GridSearchCV(model, search_space, cv=5, verbose=0)\n",
        "\n"
      ],
      "metadata": {
        "id": "O0TwFRUGg6j8"
      },
      "execution_count": 53,
      "outputs": []
    },
    {
      "cell_type": "code",
      "source": [
        "import warnings\n",
        "warnings.filterwarnings(\"ignore\")\n",
        "from sklearn.exceptions import FitFailedWarning\n",
        "best_model = grid.fit(X, y)\n",
        "best_param = grid.best_params_\n",
        "print(best_param)\n",
        "\n",
        "# Stores the optimum model in best_pipe\n",
        "best_pipe = grid.best_estimator_\n",
        "print(best_pipe)"
      ],
      "metadata": {
        "colab": {
          "base_uri": "https://localhost:8080/"
        },
        "id": "WcDIOVQS1OJO",
        "outputId": "0b0f51e3-dc92-4504-8f48-f8c31b18fc52"
      },
      "execution_count": 54,
      "outputs": [
        {
          "output_type": "stream",
          "name": "stdout",
          "text": [
            "{'classifier': DecisionTreeClassifier(max_depth=2, min_samples_leaf=9), 'classifier__max_depth': 2, 'classifier__min_samples_leaf': 9}\n",
            "Pipeline(steps=[('preprocessor',\n",
            "                 ColumnTransformer(transformers=[('num',\n",
            "                                                  Pipeline(steps=[('imputer',\n",
            "                                                                   SimpleImputer()),\n",
            "                                                                  ('scaler',\n",
            "                                                                   StandardScaler())]),\n",
            "                                                  ['MinTemp', 'MaxTemp',\n",
            "                                                   'Rainfall', 'Evaporation',\n",
            "                                                   'Sunshine', 'WindGustSpeed',\n",
            "                                                   'WindSpeed9am',\n",
            "                                                   'WindSpeed3pm',\n",
            "                                                   'Humidity9am', 'Humidity3pm',\n",
            "                                                   'Pressure9am', 'Pressure3pm',\n",
            "                                                   'Cloud9am', 'Cloud3pm',\n",
            "                                                   'Temp9am', 'Temp3pm',\n",
            "                                                   'RainToday']),\n",
            "                                                 ('cat',\n",
            "                                                  Pipeline(steps=[('imputer',\n",
            "                                                                   SimpleImputer(strategy='most_frequent')),\n",
            "                                                                  ('scaler',\n",
            "                                                                   OneHotEncoder(handle_unknown='ignore',\n",
            "                                                                                 sparse=False))]),\n",
            "                                                  ['Location'])])),\n",
            "                ('classifier',\n",
            "                 DecisionTreeClassifier(max_depth=2, min_samples_leaf=9))])\n"
          ]
        }
      ]
    },
    {
      "cell_type": "code",
      "source": [
        "preds = best_model.predict(X_test)\n",
        "from sklearn.metrics import accuracy_score\n",
        "adt = f1_score(y_test, preds)\n",
        "adt\n",
        "print(classification_report(y_test, preds))"
      ],
      "metadata": {
        "colab": {
          "base_uri": "https://localhost:8080/"
        },
        "id": "w_7QoCb_hiPL",
        "outputId": "5bf1bad7-4541-4096-9194-f5e6b807763d"
      },
      "execution_count": 55,
      "outputs": [
        {
          "output_type": "stream",
          "name": "stdout",
          "text": [
            "              precision    recall  f1-score   support\n",
            "\n",
            "         0.0       0.83      0.98      0.89     11184\n",
            "         1.0       0.80      0.31      0.45      3343\n",
            "\n",
            "    accuracy                           0.82     14527\n",
            "   macro avg       0.81      0.64      0.67     14527\n",
            "weighted avg       0.82      0.82      0.79     14527\n",
            "\n"
          ]
        }
      ]
    },
    {
      "cell_type": "markdown",
      "source": [
        "Random Forest"
      ],
      "metadata": {
        "id": "b3FRTt70iNnQ"
      }
    },
    {
      "cell_type": "code",
      "source": [
        "from sklearn.model_selection import GridSearchCV\n",
        "from sklearn.model_selection import RandomizedSearchCV\n",
        "import numpy as np\n",
        "\n",
        "search_space =[\n",
        "                {'classifier': [RandomForestClassifier()],\n",
        "                 'classifier__n_estimators': range(550, 580, 10),\n",
        "                 'classifier__max_depth': range(7,9,1),\n",
        "                },\n",
        "\n",
        "              ]\n",
        "\n",
        "classifier = RandomForestClassifier()\n",
        "\n",
        "model = Pipeline(steps=[('preprocessor', preprocessor),\n",
        "                        ('classifier', classifier)])\n",
        "\n",
        "grid = GridSearchCV(model, search_space, cv=5, verbose=0)\n"
      ],
      "metadata": {
        "id": "YMss29PniOPx"
      },
      "execution_count": 56,
      "outputs": []
    },
    {
      "cell_type": "code",
      "source": [
        "import warnings\n",
        "warnings.filterwarnings(\"ignore\")\n",
        "from sklearn.exceptions import FitFailedWarning\n",
        "best_model = grid.fit(X, y)\n",
        "best_param = grid.best_params_\n",
        "print(best_param)\n",
        "\n",
        "# Stores the optimum model in best_pipe\n",
        "best_pipe = grid.best_estimator_\n",
        "print(best_pipe)"
      ],
      "metadata": {
        "colab": {
          "base_uri": "https://localhost:8080/"
        },
        "id": "sX9q90qDiU6U",
        "outputId": "ff3f2bed-1230-45eb-e08a-5e69e87b3465"
      },
      "execution_count": 57,
      "outputs": [
        {
          "output_type": "stream",
          "name": "stdout",
          "text": [
            "{'classifier': RandomForestClassifier(max_depth=8, n_estimators=560), 'classifier__max_depth': 8, 'classifier__n_estimators': 560}\n",
            "Pipeline(steps=[('preprocessor',\n",
            "                 ColumnTransformer(transformers=[('num',\n",
            "                                                  Pipeline(steps=[('imputer',\n",
            "                                                                   SimpleImputer()),\n",
            "                                                                  ('scaler',\n",
            "                                                                   StandardScaler())]),\n",
            "                                                  ['MinTemp', 'MaxTemp',\n",
            "                                                   'Rainfall', 'Evaporation',\n",
            "                                                   'Sunshine', 'WindGustSpeed',\n",
            "                                                   'WindSpeed9am',\n",
            "                                                   'WindSpeed3pm',\n",
            "                                                   'Humidity9am', 'Humidity3pm',\n",
            "                                                   'Pressure9am', 'Pressure3pm',\n",
            "                                                   'Cloud9am', 'Cloud3pm',\n",
            "                                                   'Temp9am', 'Temp3pm',\n",
            "                                                   'RainToday']),\n",
            "                                                 ('cat',\n",
            "                                                  Pipeline(steps=[('imputer',\n",
            "                                                                   SimpleImputer(strategy='most_frequent')),\n",
            "                                                                  ('scaler',\n",
            "                                                                   OneHotEncoder(handle_unknown='ignore',\n",
            "                                                                                 sparse=False))]),\n",
            "                                                  ['Location'])])),\n",
            "                ('classifier',\n",
            "                 RandomForestClassifier(max_depth=8, n_estimators=560))])\n"
          ]
        }
      ]
    },
    {
      "cell_type": "code",
      "source": [
        "preds = best_model.predict(X_test)\n",
        "from sklearn.metrics import accuracy_score\n",
        "arf = f1_score(y_test, preds)\n",
        "arf\n",
        "print(classification_report(y_test, preds))"
      ],
      "metadata": {
        "colab": {
          "base_uri": "https://localhost:8080/"
        },
        "id": "sIjU4393kyt0",
        "outputId": "44d57b1e-e01a-4c75-808b-a81aa929b90f"
      },
      "execution_count": 58,
      "outputs": [
        {
          "output_type": "stream",
          "name": "stdout",
          "text": [
            "              precision    recall  f1-score   support\n",
            "\n",
            "         0.0       0.86      0.97      0.91     11184\n",
            "         1.0       0.83      0.45      0.59      3343\n",
            "\n",
            "    accuracy                           0.85     14527\n",
            "   macro avg       0.84      0.71      0.75     14527\n",
            "weighted avg       0.85      0.85      0.84     14527\n",
            "\n"
          ]
        }
      ]
    },
    {
      "cell_type": "markdown",
      "source": [
        "6.β. Εφαρμόστε στα εκπαιδευμένα μοντέλα από το validation set μόνο τα δείγματα χωρίς την ετικέτα τους (predict).\n"
      ],
      "metadata": {
        "id": "KD2jGJgUloMW"
      }
    },
    {
      "cell_type": "code",
      "source": [
        "# έγινε στα παραπάνω ερωτήματα"
      ],
      "metadata": {
        "id": "ANPd125TloMW"
      },
      "execution_count": 59,
      "outputs": []
    },
    {
      "cell_type": "markdown",
      "source": [
        "\n",
        "6.γ. Συγκρίνετε την έξοδο του κάθε μοντέλου σε σχέση με τις αντίστοιχες ετικέτες του validation set και αξιολογήστε την επιδοσή τους χρησιμοποιώντας το F1 score.\n"
      ],
      "metadata": {
        "id": "hj_7xTZ-loMW"
      }
    },
    {
      "cell_type": "code",
      "source": [
        "import pandas as pd\n",
        "import numpy as np\n",
        "\n",
        "# Assuming values and labels are defined\n",
        "values = np.array([anb, akn, amlp, adt, arf, asvc, alr])\n",
        "labels = ['Naive Bayes', 'KNeighborsClassifier', 'MLP with one hidden layer', 'Decision Tree', 'Random Forest', 'SVC', 'LogisticRegression']\n",
        "\n",
        "# Create a DataFrame\n",
        "table_df = pd.DataFrame({'Label': labels, 'F1 Value': values})\n",
        "\n",
        "# Display the table\n",
        "print(table_df)"
      ],
      "metadata": {
        "id": "YsJB5GanloMW",
        "colab": {
          "base_uri": "https://localhost:8080/"
        },
        "outputId": "ef538835-5afc-40d5-8363-3bf5f5a17fa7"
      },
      "execution_count": 68,
      "outputs": [
        {
          "output_type": "stream",
          "name": "stdout",
          "text": [
            "                       Label  F1 Value\n",
            "0                Naive Bayes  0.503093\n",
            "1       KNeighborsClassifier  0.760710\n",
            "2  MLP with one hidden layer  0.654852\n",
            "3              Decision Tree  0.445736\n",
            "4              Random Forest  0.587209\n",
            "5                        SVC  0.369120\n",
            "6         LogisticRegression  0.627955\n"
          ]
        }
      ]
    },
    {
      "cell_type": "markdown",
      "source": [
        "6.δ.  Αξιολογήστε συνολικά την επίδοση των μοντέλων χρησιμοποιώντας κάποιο γράφημα (π.χ. ιστόγραμμα, bar plot) και σχολιάστε ποιο μοντέλο είχε την καλύτερη επίδοση.\n"
      ],
      "metadata": {
        "id": "l6vs5gOQloMW"
      }
    },
    {
      "cell_type": "code",
      "source": [
        "from matplotlib import pyplot as plt\n",
        "import numpy as np\n",
        "\n",
        "# Assuming anb, akn, amlp, adt, arf, asvc, alr are numerical values\n",
        "# If not, replace them with actual numerical values\n",
        "values = np.array([anb, akn, amlp, adt, arf, asvc, alr])\n",
        "labels = ['anb', 'akn', 'amlp', 'adt', 'arf', 'asvc', 'alr']\n",
        "\n",
        "# Creating a bar chart\n",
        "fig, ax = plt.subplots(figsize=(10, 7))\n",
        "ax.bar(labels, values)\n",
        "\n",
        "# Adding labels and title\n",
        "ax.set_xlabel('Classifier')\n",
        "ax.set_ylabel('F1 Score')\n",
        "ax.set_title('Performance Comparison of Classifiers on Selected Features')\n",
        "\n",
        "# Show plot\n",
        "plt.show()"
      ],
      "metadata": {
        "id": "EsAWlUCUloMX",
        "colab": {
          "base_uri": "https://localhost:8080/",
          "height": 661
        },
        "outputId": "c1c7c746-373d-430f-e442-15e8f42ca74e"
      },
      "execution_count": 69,
      "outputs": [
        {
          "output_type": "display_data",
          "data": {
            "text/plain": [
              "<Figure size 1000x700 with 1 Axes>"
            ],
            "image/png": "[encoded data removed]"
          },
          "metadata": {}
        }
      ]
    },
    {
      "cell_type": "markdown",
      "source": [
        "### 7. Προετοιμασία αρχείου για τη δεύτερη υποβολή στο kaggle"
      ],
      "metadata": {
        "id": "DrWizICNmItV"
      }
    },
    {
      "cell_type": "markdown",
      "source": [
        "7.α. Χρησιμοποιήστε **ΜΟΝΟ** το μοντέλο σας με την καλύτερη επίδοση για να κάνετε προβλέψεις χρησιμοποιώντας το δοθέν σύνολο εκπαίδευσης (test set)"
      ],
      "metadata": {
        "id": "GzoRElvAmItV"
      }
    },
    {
      "cell_type": "code",
      "source": [
        "classifier = skl_nn.MLPClassifier(hidden_layer_sizes=(3), alpha=0.001, max_iter=600)\n",
        "\n",
        "# Set the Pipeline\n",
        "model = Pipeline(steps=[('preprocessor', preprocessor),\n",
        "                        ('classifier', classifier)])\n",
        "\n",
        "# Fit the pipeline\n",
        "model.fit(X_train, y_train)\n",
        "\n",
        "y_pred = model.predict(test)\n",
        "y_pred = preds.astype(int)\n",
        "results=pd.DataFrame(data={\"id\":range(1, len(y_pred) + 1),\"RainTomorrow\":y_pred})\n",
        "results.info()\n",
        "results.to_csv('submission2.csv', index=False)"
      ],
      "metadata": {
        "id": "HlEBQIOnmItV",
        "colab": {
          "base_uri": "https://localhost:8080/"
        },
        "outputId": "65093b2a-257d-456a-b77e-90963333ebd2"
      },
      "execution_count": 71,
      "outputs": [
        {
          "output_type": "stream",
          "name": "stdout",
          "text": [
            "<class 'pandas.core.frame.DataFrame'>\n",
            "RangeIndex: 14527 entries, 0 to 14526\n",
            "Data columns (total 2 columns):\n",
            " #   Column        Non-Null Count  Dtype\n",
            "---  ------        --------------  -----\n",
            " 0   id            14527 non-null  int64\n",
            " 1   RainTomorrow  14527 non-null  int64\n",
            "dtypes: int64(2)\n",
            "memory usage: 227.1 KB\n"
          ]
        }
      ]
    },
    {
      "cell_type": "markdown",
      "source": [
        "7.β. Αποθηκεύστε τις προβλέψεις από το καλύτερο μοντέλο σας σε ένα csv αρχείο. To csv αρχείο θα πρέπει να είναι περιέχει 2 στήλες: η πρώτη στήλη να περιέχει την στήλη id του test set file και η δεύτερη στήλη τις αντίστοιχες προβλέψεις που έκανε το καλύτερα εκπαιδευμένο μοντέλο σας (βήμα 7α)."
      ],
      "metadata": {
        "id": "TA2fuBn9mItW"
      }
    },
    {
      "cell_type": "code",
      "source": [
        "# έγινε στο παραπάνω ερώτημα"
      ],
      "metadata": {
        "id": "q1eN9QM-yxN5"
      },
      "execution_count": null,
      "outputs": []
    }
  ]
}